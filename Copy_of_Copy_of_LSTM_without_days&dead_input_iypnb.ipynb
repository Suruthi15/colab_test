{
  "nbformat": 4,
  "nbformat_minor": 0,
  "metadata": {
    "accelerator": "GPU",
    "colab": {
      "name": "Copy of Copy of LSTM without days&dead input.iypnb",
      "provenance": [],
      "collapsed_sections": [],
      "machine_shape": "hm",
      "include_colab_link": true
    },
    "kernelspec": {
      "display_name": "Python 3",
      "name": "python3"
    }
  },
  "cells": [
    {
      "cell_type": "markdown",
      "metadata": {
        "id": "view-in-github",
        "colab_type": "text"
      },
      "source": [
        "<a href=\"https://colab.research.google.com/github/Suruthi15/colab_test/blob/main/Copy_of_Copy_of_LSTM_without_days%26dead_input_iypnb.ipynb\" target=\"_parent\"><img src=\"https://colab.research.google.com/assets/colab-badge.svg\" alt=\"Open In Colab\"/></a>"
      ]
    },
    {
      "cell_type": "code",
      "metadata": {
        "colab": {
          "base_uri": "https://localhost:8080/"
        },
        "id": "ifcjMqcXuv3e",
        "outputId": "93f12d15-391e-4b8c-9809-ed0a41814bf6"
      },
      "source": [
        "!pip install ipython-autotime\n",
        "%load_ext autotime"
      ],
      "execution_count": null,
      "outputs": [
        {
          "output_type": "stream",
          "text": [
            "Collecting ipython-autotime\n",
            "  Downloading https://files.pythonhosted.org/packages/d6/c5/013f5aa3b56c6d2c58634bc979773df44ab2226cf4fa787daf0bfeeea0b4/ipython_autotime-0.3.0-py2.py3-none-any.whl\n",
            "Requirement already satisfied: ipython in /usr/local/lib/python3.6/dist-packages (from ipython-autotime) (5.5.0)\n",
            "Requirement already satisfied: pickleshare in /usr/local/lib/python3.6/dist-packages (from ipython->ipython-autotime) (0.7.5)\n",
            "Requirement already satisfied: decorator in /usr/local/lib/python3.6/dist-packages (from ipython->ipython-autotime) (4.4.2)\n",
            "Requirement already satisfied: pygments in /usr/local/lib/python3.6/dist-packages (from ipython->ipython-autotime) (2.6.1)\n",
            "Requirement already satisfied: simplegeneric>0.8 in /usr/local/lib/python3.6/dist-packages (from ipython->ipython-autotime) (0.8.1)\n",
            "Requirement already satisfied: traitlets>=4.2 in /usr/local/lib/python3.6/dist-packages (from ipython->ipython-autotime) (4.3.3)\n",
            "Requirement already satisfied: prompt-toolkit<2.0.0,>=1.0.4 in /usr/local/lib/python3.6/dist-packages (from ipython->ipython-autotime) (1.0.18)\n",
            "Requirement already satisfied: pexpect; sys_platform != \"win32\" in /usr/local/lib/python3.6/dist-packages (from ipython->ipython-autotime) (4.8.0)\n",
            "Requirement already satisfied: setuptools>=18.5 in /usr/local/lib/python3.6/dist-packages (from ipython->ipython-autotime) (51.0.0)\n",
            "Requirement already satisfied: six in /usr/local/lib/python3.6/dist-packages (from traitlets>=4.2->ipython->ipython-autotime) (1.15.0)\n",
            "Requirement already satisfied: ipython-genutils in /usr/local/lib/python3.6/dist-packages (from traitlets>=4.2->ipython->ipython-autotime) (0.2.0)\n",
            "Requirement already satisfied: wcwidth in /usr/local/lib/python3.6/dist-packages (from prompt-toolkit<2.0.0,>=1.0.4->ipython->ipython-autotime) (0.2.5)\n",
            "Requirement already satisfied: ptyprocess>=0.5 in /usr/local/lib/python3.6/dist-packages (from pexpect; sys_platform != \"win32\"->ipython->ipython-autotime) (0.6.0)\n",
            "Installing collected packages: ipython-autotime\n",
            "Successfully installed ipython-autotime-0.3.0\n",
            "time: 1.27 ms (started: 2020-12-26 10:43:51 +00:00)\n"
          ],
          "name": "stdout"
        }
      ]
    },
    {
      "cell_type": "code",
      "metadata": {
        "colab": {
          "base_uri": "https://localhost:8080/"
        },
        "id": "2t5NW_7iuv3f",
        "outputId": "d50e774a-780d-43fd-f824-54e4991d63ea"
      },
      "source": [
        "\n",
        "from google.colab import drive\n",
        "drive.mount('/content/drive')"
      ],
      "execution_count": null,
      "outputs": [
        {
          "output_type": "stream",
          "text": [
            "Mounted at /content/drive\n",
            "time: 52.2 s (started: 2020-12-26 10:43:51 +00:00)\n"
          ],
          "name": "stdout"
        }
      ]
    },
    {
      "cell_type": "code",
      "metadata": {
        "colab": {
          "base_uri": "https://localhost:8080/"
        },
        "id": "VhB-Y0vEuv3g",
        "outputId": "f8103a0f-cdb9-4d71-88a9-f98bc9df4242"
      },
      "source": [
        "import pandas as pd\n",
        "import numpy as np\n",
        "import matplotlib.pyplot as plt\n",
        "from sklearn.preprocessing import MinMaxScaler\n",
        "import time"
      ],
      "execution_count": null,
      "outputs": [
        {
          "output_type": "stream",
          "text": [
            "time: 820 ms (started: 2020-12-26 10:44:43 +00:00)\n"
          ],
          "name": "stdout"
        }
      ]
    },
    {
      "cell_type": "code",
      "metadata": {
        "colab": {
          "base_uri": "https://localhost:8080/"
        },
        "id": "7-0GpQSOuv3g",
        "outputId": "44e34ffa-756b-4608-850b-6d396f0e959b"
      },
      "source": [
        "# For LSTM model\n",
        "from keras.models import Sequential\n",
        "from keras.layers import Dense\n",
        "from keras.layers import LSTM\n",
        "from keras.layers import Dropout\n",
        "from keras.callbacks import EarlyStopping\n",
        "from keras.models import load_model"
      ],
      "execution_count": null,
      "outputs": [
        {
          "output_type": "stream",
          "text": [
            "time: 1.72 s (started: 2020-12-26 10:44:44 +00:00)\n"
          ],
          "name": "stdout"
        }
      ]
    },
    {
      "cell_type": "code",
      "metadata": {
        "colab": {
          "base_uri": "https://localhost:8080/",
          "height": 212
        },
        "id": "8YNfIvPL4B7k",
        "outputId": "d0de0058-ce42-47d0-d3a0-08e52b2c8a23"
      },
      "source": [
        "# import packages\n",
        "import math\n",
        "\n",
        "import tensorflow as tf\n",
        "from tensorflow import keras\n",
        "from tensorflow.keras import layers\n",
        "from tensorflow.keras.utils import Sequence\n",
        "from datetime import timedelta\n",
        "from sklearn.preprocessing import MinMaxScaler\n",
        "from sklearn.metrics import mean_squared_error\n",
        "\n",
        "import numpy as np\n",
        "import pandas as pd\n",
        "import time\n",
        "\n",
        "import os\n",
        "\n",
        "# read the dataset into python\n",
        "df = pd.read_csv(\"drive/MyDrive/Taiwan Hospice Project/final.csv\",parse_dates=['DateTime'])\n",
        "df.head()"
      ],
      "execution_count": null,
      "outputs": [
        {
          "output_type": "execute_result",
          "data": {
            "text/html": [
              "<div>\n",
              "<style scoped>\n",
              "    .dataframe tbody tr th:only-of-type {\n",
              "        vertical-align: middle;\n",
              "    }\n",
              "\n",
              "    .dataframe tbody tr th {\n",
              "        vertical-align: top;\n",
              "    }\n",
              "\n",
              "    .dataframe thead th {\n",
              "        text-align: right;\n",
              "    }\n",
              "</style>\n",
              "<table border=\"1\" class=\"dataframe\">\n",
              "  <thead>\n",
              "    <tr style=\"text-align: right;\">\n",
              "      <th></th>\n",
              "      <th>ACT</th>\n",
              "      <th>Angle</th>\n",
              "      <th>Spin</th>\n",
              "      <th>PATIENT</th>\n",
              "      <th>DateTime</th>\n",
              "    </tr>\n",
              "  </thead>\n",
              "  <tbody>\n",
              "    <tr>\n",
              "      <th>0</th>\n",
              "      <td>168.00</td>\n",
              "      <td>3.0</td>\n",
              "      <td>12.0</td>\n",
              "      <td>HP01</td>\n",
              "      <td>2019-09-03 10:05:17</td>\n",
              "    </tr>\n",
              "    <tr>\n",
              "      <th>1</th>\n",
              "      <td>191.00</td>\n",
              "      <td>4.0</td>\n",
              "      <td>11.0</td>\n",
              "      <td>HP01</td>\n",
              "      <td>2019-09-03 10:05:27</td>\n",
              "    </tr>\n",
              "    <tr>\n",
              "      <th>2</th>\n",
              "      <td>211.00</td>\n",
              "      <td>3.0</td>\n",
              "      <td>0.0</td>\n",
              "      <td>HP01</td>\n",
              "      <td>2019-09-03 10:05:37</td>\n",
              "    </tr>\n",
              "    <tr>\n",
              "      <th>3</th>\n",
              "      <td>87.00</td>\n",
              "      <td>2.0</td>\n",
              "      <td>3.0</td>\n",
              "      <td>HP01</td>\n",
              "      <td>2019-09-03 10:05:47</td>\n",
              "    </tr>\n",
              "    <tr>\n",
              "      <th>4</th>\n",
              "      <td>7.19</td>\n",
              "      <td>3.0</td>\n",
              "      <td>1.0</td>\n",
              "      <td>HP01</td>\n",
              "      <td>2019-09-03 10:05:57</td>\n",
              "    </tr>\n",
              "  </tbody>\n",
              "</table>\n",
              "</div>"
            ],
            "text/plain": [
              "      ACT  Angle  Spin PATIENT            DateTime\n",
              "0  168.00    3.0  12.0    HP01 2019-09-03 10:05:17\n",
              "1  191.00    4.0  11.0    HP01 2019-09-03 10:05:27\n",
              "2  211.00    3.0   0.0    HP01 2019-09-03 10:05:37\n",
              "3   87.00    2.0   3.0    HP01 2019-09-03 10:05:47\n",
              "4    7.19    3.0   1.0    HP01 2019-09-03 10:05:57"
            ]
          },
          "metadata": {
            "tags": []
          },
          "execution_count": 5
        },
        {
          "output_type": "stream",
          "text": [
            "time: 3.91 s (started: 2020-12-26 10:44:46 +00:00)\n"
          ],
          "name": "stdout"
        }
      ]
    },
    {
      "cell_type": "code",
      "metadata": {
        "colab": {
          "base_uri": "https://localhost:8080/"
        },
        "id": "IVNXFvlykQOE",
        "outputId": "1a916a75-d34b-4180-bb98-18a33015d7ed"
      },
      "source": [
        "Pat01 = pd.DataFrame(df.loc[df['PATIENT']=='HP01'])"
      ],
      "execution_count": null,
      "outputs": [
        {
          "output_type": "stream",
          "text": [
            "time: 183 ms (started: 2020-12-26 10:44:50 +00:00)\n"
          ],
          "name": "stdout"
        }
      ]
    },
    {
      "cell_type": "code",
      "metadata": {
        "colab": {
          "base_uri": "https://localhost:8080/",
          "height": 417
        },
        "id": "2N-owi1WtaJQ",
        "outputId": "1e1a621a-3b09-4933-d914-80e81052673e"
      },
      "source": [
        "Pat01"
      ],
      "execution_count": null,
      "outputs": [
        {
          "output_type": "execute_result",
          "data": {
            "text/html": [
              "<div>\n",
              "<style scoped>\n",
              "    .dataframe tbody tr th:only-of-type {\n",
              "        vertical-align: middle;\n",
              "    }\n",
              "\n",
              "    .dataframe tbody tr th {\n",
              "        vertical-align: top;\n",
              "    }\n",
              "\n",
              "    .dataframe thead th {\n",
              "        text-align: right;\n",
              "    }\n",
              "</style>\n",
              "<table border=\"1\" class=\"dataframe\">\n",
              "  <thead>\n",
              "    <tr style=\"text-align: right;\">\n",
              "      <th></th>\n",
              "      <th>ACT</th>\n",
              "      <th>Angle</th>\n",
              "      <th>Spin</th>\n",
              "      <th>PATIENT</th>\n",
              "      <th>DateTime</th>\n",
              "    </tr>\n",
              "  </thead>\n",
              "  <tbody>\n",
              "    <tr>\n",
              "      <th>0</th>\n",
              "      <td>168.00</td>\n",
              "      <td>3.0</td>\n",
              "      <td>12.0</td>\n",
              "      <td>HP01</td>\n",
              "      <td>2019-09-03 10:05:17</td>\n",
              "    </tr>\n",
              "    <tr>\n",
              "      <th>1</th>\n",
              "      <td>191.00</td>\n",
              "      <td>4.0</td>\n",
              "      <td>11.0</td>\n",
              "      <td>HP01</td>\n",
              "      <td>2019-09-03 10:05:27</td>\n",
              "    </tr>\n",
              "    <tr>\n",
              "      <th>2</th>\n",
              "      <td>211.00</td>\n",
              "      <td>3.0</td>\n",
              "      <td>0.0</td>\n",
              "      <td>HP01</td>\n",
              "      <td>2019-09-03 10:05:37</td>\n",
              "    </tr>\n",
              "    <tr>\n",
              "      <th>3</th>\n",
              "      <td>87.00</td>\n",
              "      <td>2.0</td>\n",
              "      <td>3.0</td>\n",
              "      <td>HP01</td>\n",
              "      <td>2019-09-03 10:05:47</td>\n",
              "    </tr>\n",
              "    <tr>\n",
              "      <th>4</th>\n",
              "      <td>7.19</td>\n",
              "      <td>3.0</td>\n",
              "      <td>1.0</td>\n",
              "      <td>HP01</td>\n",
              "      <td>2019-09-03 10:05:57</td>\n",
              "    </tr>\n",
              "    <tr>\n",
              "      <th>...</th>\n",
              "      <td>...</td>\n",
              "      <td>...</td>\n",
              "      <td>...</td>\n",
              "      <td>...</td>\n",
              "      <td>...</td>\n",
              "    </tr>\n",
              "    <tr>\n",
              "      <th>161117</th>\n",
              "      <td>1.75</td>\n",
              "      <td>4.0</td>\n",
              "      <td>15.0</td>\n",
              "      <td>HP01</td>\n",
              "      <td>2019-09-21 23:35:28</td>\n",
              "    </tr>\n",
              "    <tr>\n",
              "      <th>161118</th>\n",
              "      <td>2.12</td>\n",
              "      <td>4.0</td>\n",
              "      <td>15.0</td>\n",
              "      <td>HP01</td>\n",
              "      <td>2019-09-21 23:35:38</td>\n",
              "    </tr>\n",
              "    <tr>\n",
              "      <th>161119</th>\n",
              "      <td>1.75</td>\n",
              "      <td>4.0</td>\n",
              "      <td>15.0</td>\n",
              "      <td>HP01</td>\n",
              "      <td>2019-09-21 23:35:48</td>\n",
              "    </tr>\n",
              "    <tr>\n",
              "      <th>161120</th>\n",
              "      <td>1.69</td>\n",
              "      <td>4.0</td>\n",
              "      <td>15.0</td>\n",
              "      <td>HP01</td>\n",
              "      <td>2019-09-21 23:35:58</td>\n",
              "    </tr>\n",
              "    <tr>\n",
              "      <th>161121</th>\n",
              "      <td>1.75</td>\n",
              "      <td>4.0</td>\n",
              "      <td>15.0</td>\n",
              "      <td>HP01</td>\n",
              "      <td>2019-09-21 23:36:08</td>\n",
              "    </tr>\n",
              "  </tbody>\n",
              "</table>\n",
              "<p>161122 rows × 5 columns</p>\n",
              "</div>"
            ],
            "text/plain": [
              "           ACT  Angle  Spin PATIENT            DateTime\n",
              "0       168.00    3.0  12.0    HP01 2019-09-03 10:05:17\n",
              "1       191.00    4.0  11.0    HP01 2019-09-03 10:05:27\n",
              "2       211.00    3.0   0.0    HP01 2019-09-03 10:05:37\n",
              "3        87.00    2.0   3.0    HP01 2019-09-03 10:05:47\n",
              "4         7.19    3.0   1.0    HP01 2019-09-03 10:05:57\n",
              "...        ...    ...   ...     ...                 ...\n",
              "161117    1.75    4.0  15.0    HP01 2019-09-21 23:35:28\n",
              "161118    2.12    4.0  15.0    HP01 2019-09-21 23:35:38\n",
              "161119    1.75    4.0  15.0    HP01 2019-09-21 23:35:48\n",
              "161120    1.69    4.0  15.0    HP01 2019-09-21 23:35:58\n",
              "161121    1.75    4.0  15.0    HP01 2019-09-21 23:36:08\n",
              "\n",
              "[161122 rows x 5 columns]"
            ]
          },
          "metadata": {
            "tags": []
          },
          "execution_count": 7
        },
        {
          "output_type": "stream",
          "text": [
            "time: 25.8 ms (started: 2020-12-26 10:44:50 +00:00)\n"
          ],
          "name": "stdout"
        }
      ]
    },
    {
      "cell_type": "code",
      "metadata": {
        "colab": {
          "base_uri": "https://localhost:8080/"
        },
        "id": "Y8hJ31rZribZ",
        "outputId": "081011fc-2b89-49e1-f1f9-61f8292eb1b9"
      },
      "source": [
        "Pat01['DateTime'].dt.date.unique()"
      ],
      "execution_count": null,
      "outputs": [
        {
          "output_type": "execute_result",
          "data": {
            "text/plain": [
              "array([datetime.date(2019, 9, 3), datetime.date(2019, 9, 4),\n",
              "       datetime.date(2019, 9, 5), datetime.date(2019, 9, 6),\n",
              "       datetime.date(2019, 9, 7), datetime.date(2019, 9, 8),\n",
              "       datetime.date(2019, 9, 9), datetime.date(2019, 9, 10),\n",
              "       datetime.date(2019, 9, 11), datetime.date(2019, 9, 12),\n",
              "       datetime.date(2019, 9, 13), datetime.date(2019, 9, 14),\n",
              "       datetime.date(2019, 9, 15), datetime.date(2019, 9, 16),\n",
              "       datetime.date(2019, 9, 17), datetime.date(2019, 9, 18),\n",
              "       datetime.date(2019, 9, 19), datetime.date(2019, 9, 20),\n",
              "       datetime.date(2019, 9, 21)], dtype=object)"
            ]
          },
          "metadata": {
            "tags": []
          },
          "execution_count": 8
        },
        {
          "output_type": "stream",
          "text": [
            "time: 68.5 ms (started: 2020-12-26 10:44:50 +00:00)\n"
          ],
          "name": "stdout"
        }
      ]
    },
    {
      "cell_type": "code",
      "metadata": {
        "colab": {
          "base_uri": "https://localhost:8080/"
        },
        "id": "NQGT43nxtp5c",
        "outputId": "d12789a6-ff6a-434c-cc27-07f719d553c0"
      },
      "source": [
        "#final_csv = pd.DataFrame(columns=['ACT','Angle','Spin','PATIENT'],index=['DateTime'])"
      ],
      "execution_count": null,
      "outputs": [
        {
          "output_type": "stream",
          "text": [
            "time: 751 µs (started: 2020-12-26 10:44:50 +00:00)\n"
          ],
          "name": "stdout"
        }
      ]
    },
    {
      "cell_type": "code",
      "metadata": {
        "colab": {
          "base_uri": "https://localhost:8080/"
        },
        "id": "CLvoq6HT2Xjz",
        "outputId": "0ad50bcb-294b-4466-90ce-0d493e155a27"
      },
      "source": [
        "final_csv = pd.DataFrame()"
      ],
      "execution_count": null,
      "outputs": [
        {
          "output_type": "stream",
          "text": [
            "time: 1.62 ms (started: 2020-12-26 10:44:50 +00:00)\n"
          ],
          "name": "stdout"
        }
      ]
    },
    {
      "cell_type": "code",
      "metadata": {
        "colab": {
          "base_uri": "https://localhost:8080/"
        },
        "id": "SW1FuHJivGrF",
        "outputId": "915459ea-ab6c-4926-ed48-6dbf96585bff"
      },
      "source": [
        "missing = [12, 17, 26, 19, 27, 31, 40, 46]"
      ],
      "execution_count": null,
      "outputs": [
        {
          "output_type": "stream",
          "text": [
            "time: 571 µs (started: 2020-12-26 10:44:50 +00:00)\n"
          ],
          "name": "stdout"
        }
      ]
    },
    {
      "cell_type": "code",
      "metadata": {
        "colab": {
          "base_uri": "https://localhost:8080/"
        },
        "id": "X3uzD7qVr7OC",
        "outputId": "b3d62c9b-15bc-4785-b872-38f94a7b4267"
      },
      "source": [
        "for i in range(1,46):\n",
        "  if i not in missing:\n",
        "    if(i<10):\n",
        "      name = 'HP0'+str(i)\n",
        "    else:\n",
        "      name = 'HP'+str(i)\n",
        "    Temp = pd.DataFrame(df.loc[df['PATIENT']==name])\n",
        "    dates = Temp['DateTime'].dt.date.unique()\n",
        "    #print(dates)\n",
        "    for i in dates:\n",
        "      Pat_group = Temp.loc[Temp['DateTime'].dt.date==i]\n",
        "      second_temp = Pat_group.groupby(Pat_group.DateTime.dt.hour).mean()\n",
        "      second_temp['PATIENT']=name\n",
        "      index_int = (second_temp.index)\n",
        "      second_temp['index_col'] = index_int \n",
        "      second_temp['DateTime2'] = i\n",
        "      second_temp['DateTime2'] = pd.to_datetime(second_temp.DateTime2)\n",
        "      second_temp['DateTime2'] +=  pd.to_timedelta(second_temp.index_col, unit='h')\n",
        "      #second_temp['DateTime2']= pd.to_datetime(second_temp['DateTime2'], unit='h')\n",
        "      #second_temp['DateTime2'] = i+pd.Timestamp(second_temp.index[0],unit='h')\n",
        "      final_csv = final_csv.append(second_temp,ignore_index=True)"
      ],
      "execution_count": null,
      "outputs": [
        {
          "output_type": "stream",
          "text": [
            "time: 27.6 s (started: 2020-12-26 10:44:50 +00:00)\n"
          ],
          "name": "stdout"
        }
      ]
    },
    {
      "cell_type": "code",
      "metadata": {
        "colab": {
          "base_uri": "https://localhost:8080/"
        },
        "id": "Szxxj9HrxF0I",
        "outputId": "09b31832-5fcc-4c1b-d5bc-52f06246c7fd"
      },
      "source": [
        "print(final_csv)"
      ],
      "execution_count": null,
      "outputs": [
        {
          "output_type": "stream",
          "text": [
            "            ACT     Angle      Spin PATIENT  index_col           DateTime2\n",
            "0      7.014693  3.447098  4.684640    HP01         10 2019-09-03 10:00:00\n",
            "1      2.622604  2.179937  3.223316    HP01         11 2019-09-03 11:00:00\n",
            "2      4.937265  2.523782  4.125598    HP01         12 2019-09-03 12:00:00\n",
            "3      5.050821  2.950344  3.689038    HP01         13 2019-09-03 13:00:00\n",
            "4      1.999011  1.845757  2.093137    HP01         14 2019-09-03 14:00:00\n",
            "...         ...       ...       ...     ...        ...                 ...\n",
            "8029  11.107386  5.682817  2.804381    HP45         16 2020-08-19 16:00:00\n",
            "8030   9.888571  5.409884  2.687286    HP45         17 2020-08-19 17:00:00\n",
            "8031   9.097331  7.434989  2.749997    HP45         18 2020-08-19 18:00:00\n",
            "8032   0.000000  0.000000  0.000000    HP45         19 2020-08-19 19:00:00\n",
            "8033   0.280172  1.034483  0.232759    HP45         20 2020-08-19 20:00:00\n",
            "\n",
            "[8034 rows x 6 columns]\n",
            "time: 17.5 ms (started: 2020-12-26 10:45:18 +00:00)\n"
          ],
          "name": "stdout"
        }
      ]
    },
    {
      "cell_type": "code",
      "metadata": {
        "colab": {
          "base_uri": "https://localhost:8080/"
        },
        "id": "x7pVFhnqCTtc",
        "outputId": "f30d5c30-7ba2-47cb-df0e-ea1a9d50dbd5"
      },
      "source": [
        "final_csv.columns = ['ACT','Angle','Spin','PATIENT','index_col','DateTime']"
      ],
      "execution_count": null,
      "outputs": [
        {
          "output_type": "stream",
          "text": [
            "time: 1.73 ms (started: 2020-12-26 10:45:18 +00:00)\n"
          ],
          "name": "stdout"
        }
      ]
    },
    {
      "cell_type": "code",
      "metadata": {
        "colab": {
          "base_uri": "https://localhost:8080/"
        },
        "id": "NFO8IUCeB10e",
        "outputId": "c54dec86-a653-4348-d580-b25e28966852"
      },
      "source": [
        "final_csv = final_csv[['ACT','Angle','Spin','PATIENT','DateTime']]"
      ],
      "execution_count": null,
      "outputs": [
        {
          "output_type": "stream",
          "text": [
            "time: 3.49 ms (started: 2020-12-26 10:45:18 +00:00)\n"
          ],
          "name": "stdout"
        }
      ]
    },
    {
      "cell_type": "code",
      "metadata": {
        "colab": {
          "base_uri": "https://localhost:8080/",
          "height": 417
        },
        "id": "l1H6ad5ZCJhc",
        "outputId": "e5034ae2-11dc-4488-c245-6a7c9c49c117"
      },
      "source": [
        "final_csv"
      ],
      "execution_count": null,
      "outputs": [
        {
          "output_type": "execute_result",
          "data": {
            "text/html": [
              "<div>\n",
              "<style scoped>\n",
              "    .dataframe tbody tr th:only-of-type {\n",
              "        vertical-align: middle;\n",
              "    }\n",
              "\n",
              "    .dataframe tbody tr th {\n",
              "        vertical-align: top;\n",
              "    }\n",
              "\n",
              "    .dataframe thead th {\n",
              "        text-align: right;\n",
              "    }\n",
              "</style>\n",
              "<table border=\"1\" class=\"dataframe\">\n",
              "  <thead>\n",
              "    <tr style=\"text-align: right;\">\n",
              "      <th></th>\n",
              "      <th>ACT</th>\n",
              "      <th>Angle</th>\n",
              "      <th>Spin</th>\n",
              "      <th>PATIENT</th>\n",
              "      <th>DateTime</th>\n",
              "    </tr>\n",
              "  </thead>\n",
              "  <tbody>\n",
              "    <tr>\n",
              "      <th>0</th>\n",
              "      <td>7.014693</td>\n",
              "      <td>3.447098</td>\n",
              "      <td>4.684640</td>\n",
              "      <td>HP01</td>\n",
              "      <td>2019-09-03 10:00:00</td>\n",
              "    </tr>\n",
              "    <tr>\n",
              "      <th>1</th>\n",
              "      <td>2.622604</td>\n",
              "      <td>2.179937</td>\n",
              "      <td>3.223316</td>\n",
              "      <td>HP01</td>\n",
              "      <td>2019-09-03 11:00:00</td>\n",
              "    </tr>\n",
              "    <tr>\n",
              "      <th>2</th>\n",
              "      <td>4.937265</td>\n",
              "      <td>2.523782</td>\n",
              "      <td>4.125598</td>\n",
              "      <td>HP01</td>\n",
              "      <td>2019-09-03 12:00:00</td>\n",
              "    </tr>\n",
              "    <tr>\n",
              "      <th>3</th>\n",
              "      <td>5.050821</td>\n",
              "      <td>2.950344</td>\n",
              "      <td>3.689038</td>\n",
              "      <td>HP01</td>\n",
              "      <td>2019-09-03 13:00:00</td>\n",
              "    </tr>\n",
              "    <tr>\n",
              "      <th>4</th>\n",
              "      <td>1.999011</td>\n",
              "      <td>1.845757</td>\n",
              "      <td>2.093137</td>\n",
              "      <td>HP01</td>\n",
              "      <td>2019-09-03 14:00:00</td>\n",
              "    </tr>\n",
              "    <tr>\n",
              "      <th>...</th>\n",
              "      <td>...</td>\n",
              "      <td>...</td>\n",
              "      <td>...</td>\n",
              "      <td>...</td>\n",
              "      <td>...</td>\n",
              "    </tr>\n",
              "    <tr>\n",
              "      <th>8029</th>\n",
              "      <td>11.107386</td>\n",
              "      <td>5.682817</td>\n",
              "      <td>2.804381</td>\n",
              "      <td>HP45</td>\n",
              "      <td>2020-08-19 16:00:00</td>\n",
              "    </tr>\n",
              "    <tr>\n",
              "      <th>8030</th>\n",
              "      <td>9.888571</td>\n",
              "      <td>5.409884</td>\n",
              "      <td>2.687286</td>\n",
              "      <td>HP45</td>\n",
              "      <td>2020-08-19 17:00:00</td>\n",
              "    </tr>\n",
              "    <tr>\n",
              "      <th>8031</th>\n",
              "      <td>9.097331</td>\n",
              "      <td>7.434989</td>\n",
              "      <td>2.749997</td>\n",
              "      <td>HP45</td>\n",
              "      <td>2020-08-19 18:00:00</td>\n",
              "    </tr>\n",
              "    <tr>\n",
              "      <th>8032</th>\n",
              "      <td>0.000000</td>\n",
              "      <td>0.000000</td>\n",
              "      <td>0.000000</td>\n",
              "      <td>HP45</td>\n",
              "      <td>2020-08-19 19:00:00</td>\n",
              "    </tr>\n",
              "    <tr>\n",
              "      <th>8033</th>\n",
              "      <td>0.280172</td>\n",
              "      <td>1.034483</td>\n",
              "      <td>0.232759</td>\n",
              "      <td>HP45</td>\n",
              "      <td>2020-08-19 20:00:00</td>\n",
              "    </tr>\n",
              "  </tbody>\n",
              "</table>\n",
              "<p>8034 rows × 5 columns</p>\n",
              "</div>"
            ],
            "text/plain": [
              "            ACT     Angle      Spin PATIENT            DateTime\n",
              "0      7.014693  3.447098  4.684640    HP01 2019-09-03 10:00:00\n",
              "1      2.622604  2.179937  3.223316    HP01 2019-09-03 11:00:00\n",
              "2      4.937265  2.523782  4.125598    HP01 2019-09-03 12:00:00\n",
              "3      5.050821  2.950344  3.689038    HP01 2019-09-03 13:00:00\n",
              "4      1.999011  1.845757  2.093137    HP01 2019-09-03 14:00:00\n",
              "...         ...       ...       ...     ...                 ...\n",
              "8029  11.107386  5.682817  2.804381    HP45 2020-08-19 16:00:00\n",
              "8030   9.888571  5.409884  2.687286    HP45 2020-08-19 17:00:00\n",
              "8031   9.097331  7.434989  2.749997    HP45 2020-08-19 18:00:00\n",
              "8032   0.000000  0.000000  0.000000    HP45 2020-08-19 19:00:00\n",
              "8033   0.280172  1.034483  0.232759    HP45 2020-08-19 20:00:00\n",
              "\n",
              "[8034 rows x 5 columns]"
            ]
          },
          "metadata": {
            "tags": []
          },
          "execution_count": 16
        },
        {
          "output_type": "stream",
          "text": [
            "time: 23 ms (started: 2020-12-26 10:45:18 +00:00)\n"
          ],
          "name": "stdout"
        }
      ]
    },
    {
      "cell_type": "code",
      "metadata": {
        "colab": {
          "base_uri": "https://localhost:8080/"
        },
        "id": "c25kKEPhKyHy",
        "outputId": "aba88ef1-6691-481e-fc6c-7f7a5054a50a"
      },
      "source": [
        "data = final_csv"
      ],
      "execution_count": null,
      "outputs": [
        {
          "output_type": "stream",
          "text": [
            "time: 900 µs (started: 2020-12-26 10:45:18 +00:00)\n"
          ],
          "name": "stdout"
        }
      ]
    },
    {
      "cell_type": "code",
      "metadata": {
        "id": "wJLqn2jTCJXu",
        "colab": {
          "base_uri": "https://localhost:8080/"
        },
        "outputId": "71c4b4bc-16f3-46ff-9d65-9962d01e017e"
      },
      "source": [
        "data.loc[data.PATIENT == 'HP01', 'kf_score'] = 50\n",
        "data.loc[data.PATIENT == 'HP02', 'kf_score'] = 50\n",
        "data.loc[data.PATIENT == 'HP03', 'kf_score'] = 40\n",
        "data.loc[data.PATIENT == 'HP04', 'kf_score'] = 50\n",
        "data.loc[data.PATIENT == 'HP05', 'kf_score'] = 60\n",
        "data.loc[data.PATIENT == 'HP06', 'kf_score'] = 10\n",
        "data.loc[data.PATIENT == 'HP07', 'kf_score'] = 30\n",
        "data.loc[data.PATIENT == 'HP08', 'kf_score'] = 20\n",
        "data.loc[data.PATIENT == 'HP09', 'kf_score'] = 60\n",
        "data.loc[data.PATIENT == 'HP10', 'kf_score'] = 40\n",
        "data.loc[data.PATIENT == 'HP11', 'kf_score'] = 30\n",
        "data.loc[data.PATIENT == 'HP13', 'kf_score'] = 50\n",
        "data.loc[data.PATIENT == 'HP14', 'kf_score'] = 40\n",
        "data.loc[data.PATIENT == 'HP15', 'kf_score'] = 50\n",
        "data.loc[data.PATIENT == 'HP16', 'kf_score'] = 50\n",
        "data.loc[data.PATIENT == 'HP18', 'kf_score'] = 60\n",
        "data.loc[data.PATIENT == 'HP20', 'kf_score'] = 10\n",
        "data.loc[data.PATIENT == 'HP21', 'kf_score'] = 30\n",
        "data.loc[data.PATIENT == 'HP22', 'kf_score'] = 50\n",
        "data.loc[data.PATIENT == 'HP23', 'kf_score'] = 50\n",
        "data.loc[data.PATIENT == 'HP24', 'kf_score'] = 50\n",
        "data.loc[data.PATIENT == 'HP25', 'kf_score'] = 40\n",
        "data.loc[data.PATIENT == 'HP28', 'kf_score'] = 40\n",
        "data.loc[data.PATIENT == 'HP29', 'kf_score'] = 30\n",
        "data.loc[data.PATIENT == 'HP30', 'kf_score'] = 30\n",
        "data.loc[data.PATIENT == 'HP32', 'kf_score'] = 50\n",
        "data.loc[data.PATIENT == 'HP33', 'kf_score'] = 40\n",
        "data.loc[data.PATIENT == 'HP34', 'kf_score'] = 50\n",
        "data.loc[data.PATIENT == 'HP35', 'kf_score'] = 30\n",
        "data.loc[data.PATIENT == 'HP36', 'kf_score'] = 50\n",
        "data.loc[data.PATIENT == 'HP37', 'kf_score'] = 50\n",
        "data.loc[data.PATIENT == 'HP38', 'kf_score'] = 50\n",
        "data.loc[data.PATIENT == 'HP39', 'kf_score'] = 60\n",
        "data.loc[data.PATIENT == 'HP41', 'kf_score'] = 40\n",
        "data.loc[data.PATIENT == 'HP42', 'kf_score'] = 10\n",
        "data.loc[data.PATIENT == 'HP43', 'kf_score'] = 50\n",
        "data.loc[data.PATIENT == 'HP44', 'kf_score'] = 50\n",
        "data.loc[data.PATIENT == 'HP45', 'kf_score'] = 40"
      ],
      "execution_count": null,
      "outputs": [
        {
          "output_type": "stream",
          "text": [
            "time: 81.4 ms (started: 2020-12-26 10:45:18 +00:00)\n"
          ],
          "name": "stdout"
        }
      ]
    },
    {
      "cell_type": "code",
      "metadata": {
        "id": "8raGdLfEDw_g",
        "colab": {
          "base_uri": "https://localhost:8080/"
        },
        "outputId": "efc5cdb6-841b-4560-b4a4-8ada6caffaa5"
      },
      "source": [
        "data.loc[data.PATIENT == 'HP01', 'at_recruitment_sys'] = 134\n",
        "data.loc[data.PATIENT == 'HP02', 'at_recruitment_sys'] = 116\n",
        "data.loc[data.PATIENT == 'HP03', 'at_recruitment_sys'] = 118\n",
        "data.loc[data.PATIENT == 'HP04', 'at_recruitment_sys'] = 119\n",
        "data.loc[data.PATIENT == 'HP05', 'at_recruitment_sys'] = 107\n",
        "data.loc[data.PATIENT == 'HP06', 'at_recruitment_sys'] = 152\n",
        "data.loc[data.PATIENT == 'HP07', 'at_recruitment_sys'] = 162\n",
        "data.loc[data.PATIENT == 'HP08', 'at_recruitment_sys'] = 97\n",
        "data.loc[data.PATIENT == 'HP09', 'at_recruitment_sys'] = 163\n",
        "data.loc[data.PATIENT == 'HP10', 'at_recruitment_sys'] = 116\n",
        "data.loc[data.PATIENT == 'HP11', 'at_recruitment_sys'] = 158\n",
        "data.loc[data.PATIENT == 'HP13', 'at_recruitment_sys'] = 170\n",
        "data.loc[data.PATIENT == 'HP14', 'at_recruitment_sys'] = 126\n",
        "data.loc[data.PATIENT == 'HP15', 'at_recruitment_sys'] = 126\n",
        "data.loc[data.PATIENT == 'HP16', 'at_recruitment_sys'] = 126\n",
        "data.loc[data.PATIENT == 'HP18', 'at_recruitment_sys'] = 136\n",
        "data.loc[data.PATIENT == 'HP20', 'at_recruitment_sys'] = 126\n",
        "data.loc[data.PATIENT == 'HP21', 'at_recruitment_sys'] = 132\n",
        "data.loc[data.PATIENT == 'HP22', 'at_recruitment_sys'] = 120\n",
        "data.loc[data.PATIENT == 'HP23', 'at_recruitment_sys'] = 126\n",
        "data.loc[data.PATIENT == 'HP24', 'at_recruitment_sys'] = 110\n",
        "data.loc[data.PATIENT == 'HP25', 'at_recruitment_sys'] = 112\n",
        "data.loc[data.PATIENT == 'HP28', 'at_recruitment_sys'] = 110\n",
        "data.loc[data.PATIENT == 'HP29', 'at_recruitment_sys'] = 121\n",
        "data.loc[data.PATIENT == 'HP30', 'at_recruitment_sys'] = 126\n",
        "data.loc[data.PATIENT == 'HP32', 'at_recruitment_sys'] = 119\n",
        "data.loc[data.PATIENT == 'HP33', 'at_recruitment_sys'] = 121\n",
        "data.loc[data.PATIENT == 'HP34', 'at_recruitment_sys'] = 115\n",
        "data.loc[data.PATIENT == 'HP35', 'at_recruitment_sys'] = 110\n",
        "data.loc[data.PATIENT == 'HP36', 'at_recruitment_sys'] = 126\n",
        "data.loc[data.PATIENT == 'HP37', 'at_recruitment_sys'] = 126\n",
        "data.loc[data.PATIENT == 'HP38', 'at_recruitment_sys'] = 126\n",
        "data.loc[data.PATIENT == 'HP39', 'at_recruitment_sys'] = 126\n",
        "data.loc[data.PATIENT == 'HP41', 'at_recruitment_sys'] = 126\n",
        "data.loc[data.PATIENT == 'HP42', 'at_recruitment_sys'] = 126\n",
        "data.loc[data.PATIENT == 'HP43', 'at_recruitment_sys'] = 126\n",
        "data.loc[data.PATIENT == 'HP44', 'at_recruitment_sys'] = 126\n",
        "data.loc[data.PATIENT == 'HP45', 'at_recruitment_sys'] = 110"
      ],
      "execution_count": null,
      "outputs": [
        {
          "output_type": "stream",
          "text": [
            "time: 79.5 ms (started: 2020-12-26 10:45:18 +00:00)\n"
          ],
          "name": "stdout"
        }
      ]
    },
    {
      "cell_type": "code",
      "metadata": {
        "id": "Q9M4i0onDw7Y",
        "colab": {
          "base_uri": "https://localhost:8080/"
        },
        "outputId": "bc3190c2-17a7-4e2f-edf8-b5be9bf90cec"
      },
      "source": [
        "data.loc[data.PATIENT == 'HP01', 'at_recruitment_dia'] = 91\n",
        "data.loc[data.PATIENT == 'HP02', 'at_recruitment_dia'] = 82\n",
        "data.loc[data.PATIENT == 'HP03', 'at_recruitment_dia'] = 78\n",
        "data.loc[data.PATIENT == 'HP04', 'at_recruitment_dia'] = 86\n",
        "data.loc[data.PATIENT == 'HP05', 'at_recruitment_dia'] = 74\n",
        "data.loc[data.PATIENT == 'HP06', 'at_recruitment_dia'] = 107\n",
        "data.loc[data.PATIENT == 'HP07', 'at_recruitment_dia'] = 95\n",
        "data.loc[data.PATIENT == 'HP08', 'at_recruitment_dia'] = 61\n",
        "data.loc[data.PATIENT == 'HP09', 'at_recruitment_dia'] = 88\n",
        "data.loc[data.PATIENT == 'HP10', 'at_recruitment_dia'] = 80\n",
        "data.loc[data.PATIENT == 'HP11', 'at_recruitment_dia'] = 107\n",
        "data.loc[data.PATIENT == 'HP13', 'at_recruitment_dia'] = 140\n",
        "data.loc[data.PATIENT == 'HP14', 'at_recruitment_dia'] = 83\n",
        "data.loc[data.PATIENT == 'HP15', 'at_recruitment_dia'] = 83\n",
        "data.loc[data.PATIENT == 'HP16', 'at_recruitment_dia'] = 83\n",
        "data.loc[data.PATIENT == 'HP18', 'at_recruitment_dia'] = 74\n",
        "data.loc[data.PATIENT == 'HP20', 'at_recruitment_dia'] = 83\n",
        "data.loc[data.PATIENT == 'HP21', 'at_recruitment_dia'] = 103\n",
        "data.loc[data.PATIENT == 'HP22', 'at_recruitment_dia'] = 90\n",
        "data.loc[data.PATIENT == 'HP23', 'at_recruitment_dia'] = 83\n",
        "data.loc[data.PATIENT == 'HP24', 'at_recruitment_dia'] = 60\n",
        "data.loc[data.PATIENT == 'HP25', 'at_recruitment_dia'] = 80\n",
        "data.loc[data.PATIENT == 'HP28', 'at_recruitment_dia'] = 70\n",
        "data.loc[data.PATIENT == 'HP29', 'at_recruitment_dia'] = 88\n",
        "data.loc[data.PATIENT == 'HP30', 'at_recruitment_dia'] = 83\n",
        "data.loc[data.PATIENT == 'HP32', 'at_recruitment_dia'] = 64\n",
        "data.loc[data.PATIENT == 'HP33', 'at_recruitment_dia'] = 77\n",
        "data.loc[data.PATIENT == 'HP34', 'at_recruitment_dia'] = 79\n",
        "data.loc[data.PATIENT == 'HP35', 'at_recruitment_dia'] = 60\n",
        "data.loc[data.PATIENT == 'HP36', 'at_recruitment_dia'] = 83\n",
        "data.loc[data.PATIENT == 'HP37', 'at_recruitment_dia'] = 83\n",
        "data.loc[data.PATIENT == 'HP38', 'at_recruitment_dia'] = 83\n",
        "data.loc[data.PATIENT == 'HP39', 'at_recruitment_dia'] = 83\n",
        "data.loc[data.PATIENT == 'HP41', 'at_recruitment_dia'] = 83\n",
        "data.loc[data.PATIENT == 'HP42', 'at_recruitment_dia'] = 83\n",
        "data.loc[data.PATIENT == 'HP43', 'at_recruitment_dia'] = 83\n",
        "data.loc[data.PATIENT == 'HP44', 'at_recruitment_dia'] = 83\n",
        "data.loc[data.PATIENT == 'HP45', 'at_recruitment_dia'] = 60"
      ],
      "execution_count": null,
      "outputs": [
        {
          "output_type": "stream",
          "text": [
            "time: 79.5 ms (started: 2020-12-26 10:45:18 +00:00)\n"
          ],
          "name": "stdout"
        }
      ]
    },
    {
      "cell_type": "code",
      "metadata": {
        "id": "gSRGluNIDw3-",
        "colab": {
          "base_uri": "https://localhost:8080/"
        },
        "outputId": "1b4d7b17-f45f-4ad1-d7dc-5c2fad1bb586"
      },
      "source": [
        "data.loc[data.PATIENT == 'HP01', 'Height'] = 164\n",
        "data.loc[data.PATIENT == 'HP02', 'Height'] = 158\n",
        "data.loc[data.PATIENT == 'HP03', 'Height'] = 158\n",
        "data.loc[data.PATIENT == 'HP04', 'Height'] = 163\n",
        "data.loc[data.PATIENT == 'HP05', 'Height'] = 164\n",
        "data.loc[data.PATIENT == 'HP06', 'Height'] = 165\n",
        "data.loc[data.PATIENT == 'HP07', 'Height'] = 150\n",
        "data.loc[data.PATIENT == 'HP08', 'Height'] = 163\n",
        "data.loc[data.PATIENT == 'HP09', 'Height'] = 153\n",
        "data.loc[data.PATIENT == 'HP10', 'Height'] = 178\n",
        "data.loc[data.PATIENT == 'HP11', 'Height'] = 173\n",
        "data.loc[data.PATIENT == 'HP13', 'Height'] = 162\n",
        "data.loc[data.PATIENT == 'HP14', 'Height'] = 161\n",
        "data.loc[data.PATIENT == 'HP15', 'Height'] = 161\n",
        "data.loc[data.PATIENT == 'HP16', 'Height'] = 161\n",
        "data.loc[data.PATIENT == 'HP18', 'Height'] = 161\n",
        "data.loc[data.PATIENT == 'HP20', 'Height'] = 161\n",
        "data.loc[data.PATIENT == 'HP21', 'Height'] = 158\n",
        "data.loc[data.PATIENT == 'HP22', 'Height'] = 158\n",
        "data.loc[data.PATIENT == 'HP23', 'Height'] = 161\n",
        "data.loc[data.PATIENT == 'HP24', 'Height'] = 161\n",
        "data.loc[data.PATIENT == 'HP25', 'Height'] = 161\n",
        "data.loc[data.PATIENT == 'HP28', 'Height'] = 155\n",
        "data.loc[data.PATIENT == 'HP29', 'Height'] = 161\n",
        "data.loc[data.PATIENT == 'HP30', 'Height'] = 161\n",
        "data.loc[data.PATIENT == 'HP32', 'Height'] = 147\n",
        "data.loc[data.PATIENT == 'HP33', 'Height'] = 155\n",
        "data.loc[data.PATIENT == 'HP34', 'Height'] = 162\n",
        "data.loc[data.PATIENT == 'HP35', 'Height'] = 161\n",
        "data.loc[data.PATIENT == 'HP36', 'Height'] = 161\n",
        "data.loc[data.PATIENT == 'HP37', 'Height'] = 161\n",
        "data.loc[data.PATIENT == 'HP38', 'Height'] = 161\n",
        "data.loc[data.PATIENT == 'HP39', 'Height'] = 161\n",
        "data.loc[data.PATIENT == 'HP41', 'Height'] = 161\n",
        "data.loc[data.PATIENT == 'HP42', 'Height'] = 161\n",
        "data.loc[data.PATIENT == 'HP43', 'Height'] = 161\n",
        "data.loc[data.PATIENT == 'HP44', 'Height'] = 161\n",
        "data.loc[data.PATIENT == 'HP45', 'Height'] = 176"
      ],
      "execution_count": null,
      "outputs": [
        {
          "output_type": "stream",
          "text": [
            "time: 75.7 ms (started: 2020-12-26 10:45:18 +00:00)\n"
          ],
          "name": "stdout"
        }
      ]
    },
    {
      "cell_type": "code",
      "metadata": {
        "id": "oRudAV_yDwtl",
        "colab": {
          "base_uri": "https://localhost:8080/"
        },
        "outputId": "88542c76-d9b2-4dd5-b5d4-671f19e8571b"
      },
      "source": [
        "data.loc[data.PATIENT == 'HP01', 'Weight'] = 59\n",
        "data.loc[data.PATIENT == 'HP02', 'Weight'] = 46\n",
        "data.loc[data.PATIENT == 'HP03', 'Weight'] = 53\n",
        "data.loc[data.PATIENT == 'HP04', 'Weight'] = 38\n",
        "data.loc[data.PATIENT == 'HP05', 'Weight'] = 49\n",
        "data.loc[data.PATIENT == 'HP06', 'Weight'] = 60\n",
        "data.loc[data.PATIENT == 'HP07', 'Weight'] = 39\n",
        "data.loc[data.PATIENT == 'HP08', 'Weight'] = 52\n",
        "data.loc[data.PATIENT == 'HP09', 'Weight'] = 40\n",
        "data.loc[data.PATIENT == 'HP10', 'Weight'] = 55\n",
        "data.loc[data.PATIENT == 'HP11', 'Weight'] = 67\n",
        "data.loc[data.PATIENT == 'HP13', 'Weight'] = 53\n",
        "data.loc[data.PATIENT == 'HP14', 'Weight'] = 55\n",
        "data.loc[data.PATIENT == 'HP15', 'Weight'] = 55\n",
        "data.loc[data.PATIENT == 'HP16', 'Weight'] = 55\n",
        "data.loc[data.PATIENT == 'HP18', 'Weight'] = 55\n",
        "data.loc[data.PATIENT == 'HP20', 'Weight'] = 55\n",
        "data.loc[data.PATIENT == 'HP21', 'Weight'] = 73\n",
        "data.loc[data.PATIENT == 'HP22', 'Weight'] = 50\n",
        "data.loc[data.PATIENT == 'HP23', 'Weight'] = 55\n",
        "data.loc[data.PATIENT == 'HP24', 'Weight'] = 55\n",
        "data.loc[data.PATIENT == 'HP25', 'Weight'] = 60\n",
        "data.loc[data.PATIENT == 'HP28', 'Weight'] = 60\n",
        "data.loc[data.PATIENT == 'HP29', 'Weight'] = 55\n",
        "data.loc[data.PATIENT == 'HP30', 'Weight'] = 50\n",
        "data.loc[data.PATIENT == 'HP32', 'Weight'] = 55\n",
        "data.loc[data.PATIENT == 'HP33', 'Weight'] = 60\n",
        "data.loc[data.PATIENT == 'HP34', 'Weight'] = 59\n",
        "data.loc[data.PATIENT == 'HP35', 'Weight'] = 66\n",
        "data.loc[data.PATIENT == 'HP36', 'Weight'] = 55\n",
        "data.loc[data.PATIENT == 'HP37', 'Weight'] = 55\n",
        "data.loc[data.PATIENT == 'HP38', 'Weight'] = 55\n",
        "data.loc[data.PATIENT == 'HP39', 'Weight'] = 55\n",
        "data.loc[data.PATIENT == 'HP41', 'Weight'] = 55\n",
        "data.loc[data.PATIENT == 'HP42', 'Weight'] = 55\n",
        "data.loc[data.PATIENT == 'HP43', 'Weight'] = 55\n",
        "data.loc[data.PATIENT == 'HP44', 'Weight'] = 55\n",
        "data.loc[data.PATIENT == 'HP45', 'Weight'] = 57"
      ],
      "execution_count": null,
      "outputs": [
        {
          "output_type": "stream",
          "text": [
            "time: 77.5 ms (started: 2020-12-26 10:45:18 +00:00)\n"
          ],
          "name": "stdout"
        }
      ]
    },
    {
      "cell_type": "markdown",
      "metadata": {
        "id": "SoXWAfwBKLfR"
      },
      "source": [
        "male = 1; female = 2\n"
      ]
    },
    {
      "cell_type": "code",
      "metadata": {
        "id": "8690hc1qDwpu",
        "colab": {
          "base_uri": "https://localhost:8080/"
        },
        "outputId": "cee283a7-fd7b-4de2-fdc7-8810baa5c189"
      },
      "source": [
        "data.loc[data.PATIENT == 'HP01', 'Gender'] = 1\n",
        "data.loc[data.PATIENT == 'HP02', 'Gender'] = 2\n",
        "data.loc[data.PATIENT == 'HP03', 'Gender'] = 2\n",
        "data.loc[data.PATIENT == 'HP04', 'Gender'] = 2\n",
        "data.loc[data.PATIENT == 'HP05', 'Gender'] = 2\n",
        "data.loc[data.PATIENT == 'HP06', 'Gender'] = 1\n",
        "data.loc[data.PATIENT == 'HP07', 'Gender'] = 2\n",
        "data.loc[data.PATIENT == 'HP08', 'Gender'] = 1\n",
        "data.loc[data.PATIENT == 'HP09', 'Gender'] = 1\n",
        "data.loc[data.PATIENT == 'HP10', 'Gender'] = 1\n",
        "data.loc[data.PATIENT == 'HP11', 'Gender'] = 1\n",
        "data.loc[data.PATIENT == 'HP13', 'Gender'] = 2\n",
        "data.loc[data.PATIENT == 'HP14', 'Gender'] = 1\n",
        "data.loc[data.PATIENT == 'HP15', 'Gender'] = 1\n",
        "data.loc[data.PATIENT == 'HP16', 'Gender'] = 2\n",
        "data.loc[data.PATIENT == 'HP18', 'Gender'] = 1\n",
        "data.loc[data.PATIENT == 'HP20', 'Gender'] = 1\n",
        "data.loc[data.PATIENT == 'HP21', 'Gender'] = 1\n",
        "data.loc[data.PATIENT == 'HP22', 'Gender'] = 2\n",
        "data.loc[data.PATIENT == 'HP23', 'Gender'] = 1\n",
        "data.loc[data.PATIENT == 'HP24', 'Gender'] = 2\n",
        "data.loc[data.PATIENT == 'HP25', 'Gender'] = 2\n",
        "data.loc[data.PATIENT == 'HP28', 'Gender'] = 2\n",
        "data.loc[data.PATIENT == 'HP29', 'Gender'] = 1\n",
        "data.loc[data.PATIENT == 'HP30', 'Gender'] = 2\n",
        "data.loc[data.PATIENT == 'HP32', 'Gender'] = 2\n",
        "data.loc[data.PATIENT == 'HP33', 'Gender'] = 2\n",
        "data.loc[data.PATIENT == 'HP34', 'Gender'] = 1\n",
        "data.loc[data.PATIENT == 'HP35', 'Gender'] = 1\n",
        "data.loc[data.PATIENT == 'HP36', 'Gender'] = 1\n",
        "data.loc[data.PATIENT == 'HP37', 'Gender'] = 1\n",
        "data.loc[data.PATIENT == 'HP38', 'Gender'] = 1\n",
        "data.loc[data.PATIENT == 'HP39', 'Gender'] = 1\n",
        "data.loc[data.PATIENT == 'HP41', 'Gender'] = 1\n",
        "data.loc[data.PATIENT == 'HP42', 'Gender'] = 1\n",
        "data.loc[data.PATIENT == 'HP43', 'Gender'] = 1\n",
        "data.loc[data.PATIENT == 'HP44', 'Gender'] = 1\n",
        "data.loc[data.PATIENT == 'HP45', 'Gender'] = 1"
      ],
      "execution_count": null,
      "outputs": [
        {
          "output_type": "stream",
          "text": [
            "time: 77.4 ms (started: 2020-12-26 10:45:18 +00:00)\n"
          ],
          "name": "stdout"
        }
      ]
    },
    {
      "cell_type": "code",
      "metadata": {
        "colab": {
          "base_uri": "https://localhost:8080/"
        },
        "id": "DGtfPVqQ1nB2",
        "outputId": "eaaa7ad7-15d2-4d05-9cd0-6177b568d36e"
      },
      "source": [
        "#Organize the data:\n",
        "for i in range(1,46):\n",
        "  if(i<10):\n",
        "    name = 'HP0'+ str(i)\n",
        "  else:\n",
        "    name = 'HP'+ str(i)\n",
        "  data.loc[data.PATIENT == name, 'dead'] = 0"
      ],
      "execution_count": null,
      "outputs": [
        {
          "output_type": "stream",
          "text": [
            "time: 63.7 ms (started: 2020-12-26 11:12:15 +00:00)\n"
          ],
          "name": "stdout"
        }
      ]
    },
    {
      "cell_type": "code",
      "metadata": {
        "colab": {
          "base_uri": "https://localhost:8080/"
        },
        "id": "L2naz2TD1m-l",
        "outputId": "5b536a0e-ba80-46b9-b38a-bbca8e5a548f"
      },
      "source": [
        "dead_patients= ['06','07','08','11','12','14','17','20','21','22','23','25','29','32','35','37','40','42','45']\n",
        "for i in dead_patients:\n",
        "  name = 'HP'+i\n",
        "  data.loc[data.PATIENT == name, 'dead'] = 1"
      ],
      "execution_count": null,
      "outputs": [
        {
          "output_type": "stream",
          "text": [
            "time: 28.8 ms (started: 2020-12-26 11:12:17 +00:00)\n"
          ],
          "name": "stdout"
        }
      ]
    },
    {
      "cell_type": "code",
      "metadata": {
        "colab": {
          "base_uri": "https://localhost:8080/",
          "height": 417
        },
        "id": "eCiTR99nvp8b",
        "outputId": "d31b6faa-c9ed-4b01-8a2f-a28ade553251"
      },
      "source": [
        "  data.loc[data.PATIENT == 'HP44']"
      ],
      "execution_count": null,
      "outputs": [
        {
          "output_type": "execute_result",
          "data": {
            "text/html": [
              "<div>\n",
              "<style scoped>\n",
              "    .dataframe tbody tr th:only-of-type {\n",
              "        vertical-align: middle;\n",
              "    }\n",
              "\n",
              "    .dataframe tbody tr th {\n",
              "        vertical-align: top;\n",
              "    }\n",
              "\n",
              "    .dataframe thead th {\n",
              "        text-align: right;\n",
              "    }\n",
              "</style>\n",
              "<table border=\"1\" class=\"dataframe\">\n",
              "  <thead>\n",
              "    <tr style=\"text-align: right;\">\n",
              "      <th></th>\n",
              "      <th>ACT</th>\n",
              "      <th>Angle</th>\n",
              "      <th>Spin</th>\n",
              "      <th>PATIENT</th>\n",
              "      <th>DateTime</th>\n",
              "      <th>kf_score</th>\n",
              "      <th>at_recruitment_sys</th>\n",
              "      <th>at_recruitment_dia</th>\n",
              "      <th>Height</th>\n",
              "      <th>Weight</th>\n",
              "      <th>Gender</th>\n",
              "      <th>dead</th>\n",
              "    </tr>\n",
              "  </thead>\n",
              "  <tbody>\n",
              "    <tr>\n",
              "      <th>7783</th>\n",
              "      <td>5.447333</td>\n",
              "      <td>15.000000</td>\n",
              "      <td>15.000000</td>\n",
              "      <td>HP44</td>\n",
              "      <td>2020-08-05 00:00:00</td>\n",
              "      <td>50.0</td>\n",
              "      <td>126.0</td>\n",
              "      <td>83.0</td>\n",
              "      <td>161.0</td>\n",
              "      <td>55.0</td>\n",
              "      <td>1.0</td>\n",
              "      <td>0.0</td>\n",
              "    </tr>\n",
              "    <tr>\n",
              "      <th>7784</th>\n",
              "      <td>5.543611</td>\n",
              "      <td>15.000000</td>\n",
              "      <td>15.000000</td>\n",
              "      <td>HP44</td>\n",
              "      <td>2020-08-05 01:00:00</td>\n",
              "      <td>50.0</td>\n",
              "      <td>126.0</td>\n",
              "      <td>83.0</td>\n",
              "      <td>161.0</td>\n",
              "      <td>55.0</td>\n",
              "      <td>1.0</td>\n",
              "      <td>0.0</td>\n",
              "    </tr>\n",
              "    <tr>\n",
              "      <th>7785</th>\n",
              "      <td>5.647889</td>\n",
              "      <td>15.000000</td>\n",
              "      <td>15.000000</td>\n",
              "      <td>HP44</td>\n",
              "      <td>2020-08-05 02:00:00</td>\n",
              "      <td>50.0</td>\n",
              "      <td>126.0</td>\n",
              "      <td>83.0</td>\n",
              "      <td>161.0</td>\n",
              "      <td>55.0</td>\n",
              "      <td>1.0</td>\n",
              "      <td>0.0</td>\n",
              "    </tr>\n",
              "    <tr>\n",
              "      <th>7786</th>\n",
              "      <td>5.745333</td>\n",
              "      <td>15.000000</td>\n",
              "      <td>15.000000</td>\n",
              "      <td>HP44</td>\n",
              "      <td>2020-08-05 03:00:00</td>\n",
              "      <td>50.0</td>\n",
              "      <td>126.0</td>\n",
              "      <td>83.0</td>\n",
              "      <td>161.0</td>\n",
              "      <td>55.0</td>\n",
              "      <td>1.0</td>\n",
              "      <td>0.0</td>\n",
              "    </tr>\n",
              "    <tr>\n",
              "      <th>7787</th>\n",
              "      <td>5.858556</td>\n",
              "      <td>15.000000</td>\n",
              "      <td>15.000000</td>\n",
              "      <td>HP44</td>\n",
              "      <td>2020-08-05 04:00:00</td>\n",
              "      <td>50.0</td>\n",
              "      <td>126.0</td>\n",
              "      <td>83.0</td>\n",
              "      <td>161.0</td>\n",
              "      <td>55.0</td>\n",
              "      <td>1.0</td>\n",
              "      <td>0.0</td>\n",
              "    </tr>\n",
              "    <tr>\n",
              "      <th>...</th>\n",
              "      <td>...</td>\n",
              "      <td>...</td>\n",
              "      <td>...</td>\n",
              "      <td>...</td>\n",
              "      <td>...</td>\n",
              "      <td>...</td>\n",
              "      <td>...</td>\n",
              "      <td>...</td>\n",
              "      <td>...</td>\n",
              "      <td>...</td>\n",
              "      <td>...</td>\n",
              "      <td>...</td>\n",
              "    </tr>\n",
              "    <tr>\n",
              "      <th>7991</th>\n",
              "      <td>6.906261</td>\n",
              "      <td>9.040686</td>\n",
              "      <td>4.804496</td>\n",
              "      <td>HP44</td>\n",
              "      <td>2020-08-13 16:00:00</td>\n",
              "      <td>50.0</td>\n",
              "      <td>126.0</td>\n",
              "      <td>83.0</td>\n",
              "      <td>161.0</td>\n",
              "      <td>55.0</td>\n",
              "      <td>1.0</td>\n",
              "      <td>0.0</td>\n",
              "    </tr>\n",
              "    <tr>\n",
              "      <th>7992</th>\n",
              "      <td>6.253023</td>\n",
              "      <td>7.912888</td>\n",
              "      <td>3.916278</td>\n",
              "      <td>HP44</td>\n",
              "      <td>2020-08-13 17:00:00</td>\n",
              "      <td>50.0</td>\n",
              "      <td>126.0</td>\n",
              "      <td>83.0</td>\n",
              "      <td>161.0</td>\n",
              "      <td>55.0</td>\n",
              "      <td>1.0</td>\n",
              "      <td>0.0</td>\n",
              "    </tr>\n",
              "    <tr>\n",
              "      <th>7993</th>\n",
              "      <td>0.000000</td>\n",
              "      <td>0.000000</td>\n",
              "      <td>0.000000</td>\n",
              "      <td>HP44</td>\n",
              "      <td>2020-08-13 18:00:00</td>\n",
              "      <td>50.0</td>\n",
              "      <td>126.0</td>\n",
              "      <td>83.0</td>\n",
              "      <td>161.0</td>\n",
              "      <td>55.0</td>\n",
              "      <td>1.0</td>\n",
              "      <td>0.0</td>\n",
              "    </tr>\n",
              "    <tr>\n",
              "      <th>7994</th>\n",
              "      <td>0.000000</td>\n",
              "      <td>0.000000</td>\n",
              "      <td>0.000000</td>\n",
              "      <td>HP44</td>\n",
              "      <td>2020-08-13 19:00:00</td>\n",
              "      <td>50.0</td>\n",
              "      <td>126.0</td>\n",
              "      <td>83.0</td>\n",
              "      <td>161.0</td>\n",
              "      <td>55.0</td>\n",
              "      <td>1.0</td>\n",
              "      <td>0.0</td>\n",
              "    </tr>\n",
              "    <tr>\n",
              "      <th>7995</th>\n",
              "      <td>0.047072</td>\n",
              "      <td>0.497238</td>\n",
              "      <td>0.033149</td>\n",
              "      <td>HP44</td>\n",
              "      <td>2020-08-13 20:00:00</td>\n",
              "      <td>50.0</td>\n",
              "      <td>126.0</td>\n",
              "      <td>83.0</td>\n",
              "      <td>161.0</td>\n",
              "      <td>55.0</td>\n",
              "      <td>1.0</td>\n",
              "      <td>0.0</td>\n",
              "    </tr>\n",
              "  </tbody>\n",
              "</table>\n",
              "<p>213 rows × 12 columns</p>\n",
              "</div>"
            ],
            "text/plain": [
              "           ACT      Angle       Spin PATIENT  ... Height  Weight  Gender  dead\n",
              "7783  5.447333  15.000000  15.000000    HP44  ...  161.0    55.0     1.0   0.0\n",
              "7784  5.543611  15.000000  15.000000    HP44  ...  161.0    55.0     1.0   0.0\n",
              "7785  5.647889  15.000000  15.000000    HP44  ...  161.0    55.0     1.0   0.0\n",
              "7786  5.745333  15.000000  15.000000    HP44  ...  161.0    55.0     1.0   0.0\n",
              "7787  5.858556  15.000000  15.000000    HP44  ...  161.0    55.0     1.0   0.0\n",
              "...        ...        ...        ...     ...  ...    ...     ...     ...   ...\n",
              "7991  6.906261   9.040686   4.804496    HP44  ...  161.0    55.0     1.0   0.0\n",
              "7992  6.253023   7.912888   3.916278    HP44  ...  161.0    55.0     1.0   0.0\n",
              "7993  0.000000   0.000000   0.000000    HP44  ...  161.0    55.0     1.0   0.0\n",
              "7994  0.000000   0.000000   0.000000    HP44  ...  161.0    55.0     1.0   0.0\n",
              "7995  0.047072   0.497238   0.033149    HP44  ...  161.0    55.0     1.0   0.0\n",
              "\n",
              "[213 rows x 12 columns]"
            ]
          },
          "metadata": {
            "tags": []
          },
          "execution_count": 81
        },
        {
          "output_type": "stream",
          "text": [
            "time: 45.9 ms (started: 2020-12-26 11:32:05 +00:00)\n"
          ],
          "name": "stdout"
        }
      ]
    },
    {
      "cell_type": "code",
      "metadata": {
        "colab": {
          "base_uri": "https://localhost:8080/",
          "height": 417
        },
        "id": "sVerfUZ9LjsG",
        "outputId": "ca088139-0107-4dbb-d904-521f6f1d6893"
      },
      "source": [
        "data"
      ],
      "execution_count": null,
      "outputs": [
        {
          "output_type": "execute_result",
          "data": {
            "text/html": [
              "<div>\n",
              "<style scoped>\n",
              "    .dataframe tbody tr th:only-of-type {\n",
              "        vertical-align: middle;\n",
              "    }\n",
              "\n",
              "    .dataframe tbody tr th {\n",
              "        vertical-align: top;\n",
              "    }\n",
              "\n",
              "    .dataframe thead th {\n",
              "        text-align: right;\n",
              "    }\n",
              "</style>\n",
              "<table border=\"1\" class=\"dataframe\">\n",
              "  <thead>\n",
              "    <tr style=\"text-align: right;\">\n",
              "      <th></th>\n",
              "      <th>ACT</th>\n",
              "      <th>Angle</th>\n",
              "      <th>Spin</th>\n",
              "      <th>PATIENT</th>\n",
              "      <th>DateTime</th>\n",
              "      <th>kf_score</th>\n",
              "      <th>at_recruitment_sys</th>\n",
              "      <th>at_recruitment_dia</th>\n",
              "      <th>Height</th>\n",
              "      <th>Weight</th>\n",
              "      <th>Gender</th>\n",
              "      <th>dead</th>\n",
              "    </tr>\n",
              "  </thead>\n",
              "  <tbody>\n",
              "    <tr>\n",
              "      <th>0</th>\n",
              "      <td>7.014693</td>\n",
              "      <td>3.447098</td>\n",
              "      <td>4.684640</td>\n",
              "      <td>HP01</td>\n",
              "      <td>2019-09-03 10:00:00</td>\n",
              "      <td>50.0</td>\n",
              "      <td>134.0</td>\n",
              "      <td>91.0</td>\n",
              "      <td>164.0</td>\n",
              "      <td>59.0</td>\n",
              "      <td>1.0</td>\n",
              "      <td>0.0</td>\n",
              "    </tr>\n",
              "    <tr>\n",
              "      <th>1</th>\n",
              "      <td>2.622604</td>\n",
              "      <td>2.179937</td>\n",
              "      <td>3.223316</td>\n",
              "      <td>HP01</td>\n",
              "      <td>2019-09-03 11:00:00</td>\n",
              "      <td>50.0</td>\n",
              "      <td>134.0</td>\n",
              "      <td>91.0</td>\n",
              "      <td>164.0</td>\n",
              "      <td>59.0</td>\n",
              "      <td>1.0</td>\n",
              "      <td>0.0</td>\n",
              "    </tr>\n",
              "    <tr>\n",
              "      <th>2</th>\n",
              "      <td>4.937265</td>\n",
              "      <td>2.523782</td>\n",
              "      <td>4.125598</td>\n",
              "      <td>HP01</td>\n",
              "      <td>2019-09-03 12:00:00</td>\n",
              "      <td>50.0</td>\n",
              "      <td>134.0</td>\n",
              "      <td>91.0</td>\n",
              "      <td>164.0</td>\n",
              "      <td>59.0</td>\n",
              "      <td>1.0</td>\n",
              "      <td>0.0</td>\n",
              "    </tr>\n",
              "    <tr>\n",
              "      <th>3</th>\n",
              "      <td>5.050821</td>\n",
              "      <td>2.950344</td>\n",
              "      <td>3.689038</td>\n",
              "      <td>HP01</td>\n",
              "      <td>2019-09-03 13:00:00</td>\n",
              "      <td>50.0</td>\n",
              "      <td>134.0</td>\n",
              "      <td>91.0</td>\n",
              "      <td>164.0</td>\n",
              "      <td>59.0</td>\n",
              "      <td>1.0</td>\n",
              "      <td>0.0</td>\n",
              "    </tr>\n",
              "    <tr>\n",
              "      <th>4</th>\n",
              "      <td>1.999011</td>\n",
              "      <td>1.845757</td>\n",
              "      <td>2.093137</td>\n",
              "      <td>HP01</td>\n",
              "      <td>2019-09-03 14:00:00</td>\n",
              "      <td>50.0</td>\n",
              "      <td>134.0</td>\n",
              "      <td>91.0</td>\n",
              "      <td>164.0</td>\n",
              "      <td>59.0</td>\n",
              "      <td>1.0</td>\n",
              "      <td>0.0</td>\n",
              "    </tr>\n",
              "    <tr>\n",
              "      <th>...</th>\n",
              "      <td>...</td>\n",
              "      <td>...</td>\n",
              "      <td>...</td>\n",
              "      <td>...</td>\n",
              "      <td>...</td>\n",
              "      <td>...</td>\n",
              "      <td>...</td>\n",
              "      <td>...</td>\n",
              "      <td>...</td>\n",
              "      <td>...</td>\n",
              "      <td>...</td>\n",
              "      <td>...</td>\n",
              "    </tr>\n",
              "    <tr>\n",
              "      <th>8029</th>\n",
              "      <td>11.107386</td>\n",
              "      <td>5.682817</td>\n",
              "      <td>2.804381</td>\n",
              "      <td>HP45</td>\n",
              "      <td>2020-08-19 16:00:00</td>\n",
              "      <td>40.0</td>\n",
              "      <td>110.0</td>\n",
              "      <td>60.0</td>\n",
              "      <td>176.0</td>\n",
              "      <td>57.0</td>\n",
              "      <td>1.0</td>\n",
              "      <td>1.0</td>\n",
              "    </tr>\n",
              "    <tr>\n",
              "      <th>8030</th>\n",
              "      <td>9.888571</td>\n",
              "      <td>5.409884</td>\n",
              "      <td>2.687286</td>\n",
              "      <td>HP45</td>\n",
              "      <td>2020-08-19 17:00:00</td>\n",
              "      <td>40.0</td>\n",
              "      <td>110.0</td>\n",
              "      <td>60.0</td>\n",
              "      <td>176.0</td>\n",
              "      <td>57.0</td>\n",
              "      <td>1.0</td>\n",
              "      <td>1.0</td>\n",
              "    </tr>\n",
              "    <tr>\n",
              "      <th>8031</th>\n",
              "      <td>9.097331</td>\n",
              "      <td>7.434989</td>\n",
              "      <td>2.749997</td>\n",
              "      <td>HP45</td>\n",
              "      <td>2020-08-19 18:00:00</td>\n",
              "      <td>40.0</td>\n",
              "      <td>110.0</td>\n",
              "      <td>60.0</td>\n",
              "      <td>176.0</td>\n",
              "      <td>57.0</td>\n",
              "      <td>1.0</td>\n",
              "      <td>1.0</td>\n",
              "    </tr>\n",
              "    <tr>\n",
              "      <th>8032</th>\n",
              "      <td>0.000000</td>\n",
              "      <td>0.000000</td>\n",
              "      <td>0.000000</td>\n",
              "      <td>HP45</td>\n",
              "      <td>2020-08-19 19:00:00</td>\n",
              "      <td>40.0</td>\n",
              "      <td>110.0</td>\n",
              "      <td>60.0</td>\n",
              "      <td>176.0</td>\n",
              "      <td>57.0</td>\n",
              "      <td>1.0</td>\n",
              "      <td>1.0</td>\n",
              "    </tr>\n",
              "    <tr>\n",
              "      <th>8033</th>\n",
              "      <td>0.280172</td>\n",
              "      <td>1.034483</td>\n",
              "      <td>0.232759</td>\n",
              "      <td>HP45</td>\n",
              "      <td>2020-08-19 20:00:00</td>\n",
              "      <td>40.0</td>\n",
              "      <td>110.0</td>\n",
              "      <td>60.0</td>\n",
              "      <td>176.0</td>\n",
              "      <td>57.0</td>\n",
              "      <td>1.0</td>\n",
              "      <td>1.0</td>\n",
              "    </tr>\n",
              "  </tbody>\n",
              "</table>\n",
              "<p>8034 rows × 12 columns</p>\n",
              "</div>"
            ],
            "text/plain": [
              "            ACT     Angle      Spin PATIENT  ... Height  Weight  Gender  dead\n",
              "0      7.014693  3.447098  4.684640    HP01  ...  164.0    59.0     1.0   0.0\n",
              "1      2.622604  2.179937  3.223316    HP01  ...  164.0    59.0     1.0   0.0\n",
              "2      4.937265  2.523782  4.125598    HP01  ...  164.0    59.0     1.0   0.0\n",
              "3      5.050821  2.950344  3.689038    HP01  ...  164.0    59.0     1.0   0.0\n",
              "4      1.999011  1.845757  2.093137    HP01  ...  164.0    59.0     1.0   0.0\n",
              "...         ...       ...       ...     ...  ...    ...     ...     ...   ...\n",
              "8029  11.107386  5.682817  2.804381    HP45  ...  176.0    57.0     1.0   1.0\n",
              "8030   9.888571  5.409884  2.687286    HP45  ...  176.0    57.0     1.0   1.0\n",
              "8031   9.097331  7.434989  2.749997    HP45  ...  176.0    57.0     1.0   1.0\n",
              "8032   0.000000  0.000000  0.000000    HP45  ...  176.0    57.0     1.0   1.0\n",
              "8033   0.280172  1.034483  0.232759    HP45  ...  176.0    57.0     1.0   1.0\n",
              "\n",
              "[8034 rows x 12 columns]"
            ]
          },
          "metadata": {
            "tags": []
          },
          "execution_count": 62
        },
        {
          "output_type": "stream",
          "text": [
            "time: 50.1 ms (started: 2020-12-26 11:12:20 +00:00)\n"
          ],
          "name": "stdout"
        }
      ]
    },
    {
      "cell_type": "code",
      "metadata": {
        "colab": {
          "base_uri": "https://localhost:8080/"
        },
        "id": "cmxg-3ZBCJe_",
        "outputId": "1371717e-3ca5-4978-dd85-902fecc6b747"
      },
      "source": [
        "data.to_csv(r'drive/MyDrive/Taiwan Hospice Project/preprocessingfinal_lstmhourlydata.csv', index = False)"
      ],
      "execution_count": null,
      "outputs": [
        {
          "output_type": "stream",
          "text": [
            "time: 111 ms (started: 2020-12-26 11:12:36 +00:00)\n"
          ],
          "name": "stdout"
        }
      ]
    },
    {
      "cell_type": "code",
      "metadata": {
        "colab": {
          "base_uri": "https://localhost:8080/",
          "height": 446
        },
        "id": "VW0Z7xnsL_w7",
        "outputId": "8374932f-83ed-4afb-d1ef-678dd5c48a09"
      },
      "source": [
        "data.set_index('DateTime')"
      ],
      "execution_count": null,
      "outputs": [
        {
          "output_type": "execute_result",
          "data": {
            "text/html": [
              "<div>\n",
              "<style scoped>\n",
              "    .dataframe tbody tr th:only-of-type {\n",
              "        vertical-align: middle;\n",
              "    }\n",
              "\n",
              "    .dataframe tbody tr th {\n",
              "        vertical-align: top;\n",
              "    }\n",
              "\n",
              "    .dataframe thead th {\n",
              "        text-align: right;\n",
              "    }\n",
              "</style>\n",
              "<table border=\"1\" class=\"dataframe\">\n",
              "  <thead>\n",
              "    <tr style=\"text-align: right;\">\n",
              "      <th></th>\n",
              "      <th>ACT</th>\n",
              "      <th>Angle</th>\n",
              "      <th>Spin</th>\n",
              "      <th>PATIENT</th>\n",
              "      <th>kf_score</th>\n",
              "      <th>at_recruitment_sys</th>\n",
              "      <th>at_recruitment_dia</th>\n",
              "      <th>Height</th>\n",
              "      <th>Weight</th>\n",
              "      <th>Gender</th>\n",
              "      <th>dead</th>\n",
              "    </tr>\n",
              "    <tr>\n",
              "      <th>DateTime</th>\n",
              "      <th></th>\n",
              "      <th></th>\n",
              "      <th></th>\n",
              "      <th></th>\n",
              "      <th></th>\n",
              "      <th></th>\n",
              "      <th></th>\n",
              "      <th></th>\n",
              "      <th></th>\n",
              "      <th></th>\n",
              "      <th></th>\n",
              "    </tr>\n",
              "  </thead>\n",
              "  <tbody>\n",
              "    <tr>\n",
              "      <th>2019-09-03 10:00:00</th>\n",
              "      <td>7.014693</td>\n",
              "      <td>3.447098</td>\n",
              "      <td>4.684640</td>\n",
              "      <td>HP01</td>\n",
              "      <td>50.0</td>\n",
              "      <td>134.0</td>\n",
              "      <td>91.0</td>\n",
              "      <td>164.0</td>\n",
              "      <td>59.0</td>\n",
              "      <td>1.0</td>\n",
              "      <td>0.0</td>\n",
              "    </tr>\n",
              "    <tr>\n",
              "      <th>2019-09-03 11:00:00</th>\n",
              "      <td>2.622604</td>\n",
              "      <td>2.179937</td>\n",
              "      <td>3.223316</td>\n",
              "      <td>HP01</td>\n",
              "      <td>50.0</td>\n",
              "      <td>134.0</td>\n",
              "      <td>91.0</td>\n",
              "      <td>164.0</td>\n",
              "      <td>59.0</td>\n",
              "      <td>1.0</td>\n",
              "      <td>0.0</td>\n",
              "    </tr>\n",
              "    <tr>\n",
              "      <th>2019-09-03 12:00:00</th>\n",
              "      <td>4.937265</td>\n",
              "      <td>2.523782</td>\n",
              "      <td>4.125598</td>\n",
              "      <td>HP01</td>\n",
              "      <td>50.0</td>\n",
              "      <td>134.0</td>\n",
              "      <td>91.0</td>\n",
              "      <td>164.0</td>\n",
              "      <td>59.0</td>\n",
              "      <td>1.0</td>\n",
              "      <td>0.0</td>\n",
              "    </tr>\n",
              "    <tr>\n",
              "      <th>2019-09-03 13:00:00</th>\n",
              "      <td>5.050821</td>\n",
              "      <td>2.950344</td>\n",
              "      <td>3.689038</td>\n",
              "      <td>HP01</td>\n",
              "      <td>50.0</td>\n",
              "      <td>134.0</td>\n",
              "      <td>91.0</td>\n",
              "      <td>164.0</td>\n",
              "      <td>59.0</td>\n",
              "      <td>1.0</td>\n",
              "      <td>0.0</td>\n",
              "    </tr>\n",
              "    <tr>\n",
              "      <th>2019-09-03 14:00:00</th>\n",
              "      <td>1.999011</td>\n",
              "      <td>1.845757</td>\n",
              "      <td>2.093137</td>\n",
              "      <td>HP01</td>\n",
              "      <td>50.0</td>\n",
              "      <td>134.0</td>\n",
              "      <td>91.0</td>\n",
              "      <td>164.0</td>\n",
              "      <td>59.0</td>\n",
              "      <td>1.0</td>\n",
              "      <td>0.0</td>\n",
              "    </tr>\n",
              "    <tr>\n",
              "      <th>...</th>\n",
              "      <td>...</td>\n",
              "      <td>...</td>\n",
              "      <td>...</td>\n",
              "      <td>...</td>\n",
              "      <td>...</td>\n",
              "      <td>...</td>\n",
              "      <td>...</td>\n",
              "      <td>...</td>\n",
              "      <td>...</td>\n",
              "      <td>...</td>\n",
              "      <td>...</td>\n",
              "    </tr>\n",
              "    <tr>\n",
              "      <th>2020-08-19 16:00:00</th>\n",
              "      <td>11.107386</td>\n",
              "      <td>5.682817</td>\n",
              "      <td>2.804381</td>\n",
              "      <td>HP45</td>\n",
              "      <td>40.0</td>\n",
              "      <td>110.0</td>\n",
              "      <td>60.0</td>\n",
              "      <td>176.0</td>\n",
              "      <td>57.0</td>\n",
              "      <td>1.0</td>\n",
              "      <td>1.0</td>\n",
              "    </tr>\n",
              "    <tr>\n",
              "      <th>2020-08-19 17:00:00</th>\n",
              "      <td>9.888571</td>\n",
              "      <td>5.409884</td>\n",
              "      <td>2.687286</td>\n",
              "      <td>HP45</td>\n",
              "      <td>40.0</td>\n",
              "      <td>110.0</td>\n",
              "      <td>60.0</td>\n",
              "      <td>176.0</td>\n",
              "      <td>57.0</td>\n",
              "      <td>1.0</td>\n",
              "      <td>1.0</td>\n",
              "    </tr>\n",
              "    <tr>\n",
              "      <th>2020-08-19 18:00:00</th>\n",
              "      <td>9.097331</td>\n",
              "      <td>7.434989</td>\n",
              "      <td>2.749997</td>\n",
              "      <td>HP45</td>\n",
              "      <td>40.0</td>\n",
              "      <td>110.0</td>\n",
              "      <td>60.0</td>\n",
              "      <td>176.0</td>\n",
              "      <td>57.0</td>\n",
              "      <td>1.0</td>\n",
              "      <td>1.0</td>\n",
              "    </tr>\n",
              "    <tr>\n",
              "      <th>2020-08-19 19:00:00</th>\n",
              "      <td>0.000000</td>\n",
              "      <td>0.000000</td>\n",
              "      <td>0.000000</td>\n",
              "      <td>HP45</td>\n",
              "      <td>40.0</td>\n",
              "      <td>110.0</td>\n",
              "      <td>60.0</td>\n",
              "      <td>176.0</td>\n",
              "      <td>57.0</td>\n",
              "      <td>1.0</td>\n",
              "      <td>1.0</td>\n",
              "    </tr>\n",
              "    <tr>\n",
              "      <th>2020-08-19 20:00:00</th>\n",
              "      <td>0.280172</td>\n",
              "      <td>1.034483</td>\n",
              "      <td>0.232759</td>\n",
              "      <td>HP45</td>\n",
              "      <td>40.0</td>\n",
              "      <td>110.0</td>\n",
              "      <td>60.0</td>\n",
              "      <td>176.0</td>\n",
              "      <td>57.0</td>\n",
              "      <td>1.0</td>\n",
              "      <td>1.0</td>\n",
              "    </tr>\n",
              "  </tbody>\n",
              "</table>\n",
              "<p>8034 rows × 11 columns</p>\n",
              "</div>"
            ],
            "text/plain": [
              "                           ACT     Angle      Spin  ... Weight  Gender  dead\n",
              "DateTime                                            ...                     \n",
              "2019-09-03 10:00:00   7.014693  3.447098  4.684640  ...   59.0     1.0   0.0\n",
              "2019-09-03 11:00:00   2.622604  2.179937  3.223316  ...   59.0     1.0   0.0\n",
              "2019-09-03 12:00:00   4.937265  2.523782  4.125598  ...   59.0     1.0   0.0\n",
              "2019-09-03 13:00:00   5.050821  2.950344  3.689038  ...   59.0     1.0   0.0\n",
              "2019-09-03 14:00:00   1.999011  1.845757  2.093137  ...   59.0     1.0   0.0\n",
              "...                        ...       ...       ...  ...    ...     ...   ...\n",
              "2020-08-19 16:00:00  11.107386  5.682817  2.804381  ...   57.0     1.0   1.0\n",
              "2020-08-19 17:00:00   9.888571  5.409884  2.687286  ...   57.0     1.0   1.0\n",
              "2020-08-19 18:00:00   9.097331  7.434989  2.749997  ...   57.0     1.0   1.0\n",
              "2020-08-19 19:00:00   0.000000  0.000000  0.000000  ...   57.0     1.0   1.0\n",
              "2020-08-19 20:00:00   0.280172  1.034483  0.232759  ...   57.0     1.0   1.0\n",
              "\n",
              "[8034 rows x 11 columns]"
            ]
          },
          "metadata": {
            "tags": []
          },
          "execution_count": 65
        },
        {
          "output_type": "stream",
          "text": [
            "time: 46 ms (started: 2020-12-26 11:12:43 +00:00)\n"
          ],
          "name": "stdout"
        }
      ]
    },
    {
      "cell_type": "code",
      "metadata": {
        "colab": {
          "base_uri": "https://localhost:8080/"
        },
        "id": "KIelHY4WMOi3",
        "outputId": "866b4a47-3817-4900-f150-a7287d171bd6"
      },
      "source": [
        "# Scale features\n",
        "s1 = MinMaxScaler(feature_range=(-1,1))\n",
        "Xs = s1.fit_transform(data[['ACT','Angle', 'Spin', 'kf_score', 'at_recruitment_sys', 'at_recruitment_dia', 'Height', 'Weight', 'Gender']])"
      ],
      "execution_count": null,
      "outputs": [
        {
          "output_type": "stream",
          "text": [
            "time: 6.38 ms (started: 2020-12-26 11:12:45 +00:00)\n"
          ],
          "name": "stdout"
        }
      ]
    },
    {
      "cell_type": "code",
      "metadata": {
        "colab": {
          "base_uri": "https://localhost:8080/"
        },
        "id": "m2ofnjNrMOi4",
        "outputId": "88d7510b-5afd-4213-9e77-c04f4b290dd5"
      },
      "source": [
        "# Scale predicted value\n",
        "s2 = MinMaxScaler(feature_range=(-1,1))\n",
        "Ys = s2.fit_transform(data[['dead']])"
      ],
      "execution_count": null,
      "outputs": [
        {
          "output_type": "stream",
          "text": [
            "time: 5.52 ms (started: 2020-12-26 11:12:48 +00:00)\n"
          ],
          "name": "stdout"
        }
      ]
    },
    {
      "cell_type": "code",
      "metadata": {
        "colab": {
          "base_uri": "https://localhost:8080/"
        },
        "id": "FyM5wkjcMAKH",
        "outputId": "59db7704-39d0-47c2-ee00-a65bbbc8d2f0"
      },
      "source": [
        "#Bidirectional\n",
        "window=46\n",
        "model = keras.Sequential()\n",
        "model.add(\n",
        "  keras.layers.Bidirectional(\n",
        "    keras.layers.LSTM(\n",
        "      units=128, \n",
        "      input_shape=(window, 9)\n",
        "    )\n",
        "  )\n",
        ")\n",
        "model.add(keras.layers.Dropout(rate=0.2))\n",
        "model.add(keras.layers.Dense(units=1))\n",
        "model.compile(loss='mean_squared_error', optimizer='adam')"
      ],
      "execution_count": null,
      "outputs": [
        {
          "output_type": "stream",
          "text": [
            "time: 36 ms (started: 2020-12-26 11:34:33 +00:00)\n"
          ],
          "name": "stdout"
        }
      ]
    },
    {
      "cell_type": "code",
      "metadata": {
        "colab": {
          "base_uri": "https://localhost:8080/"
        },
        "id": "JXS4v4lGtexN",
        "outputId": "a0d261f3-0deb-4fd8-8100-c7aa27ddb197"
      },
      "source": [
        "window = 46\n",
        "X = []\n",
        "Y = []\n",
        "for j in range(window, len(data)-251): \n",
        "  X.append(Xs[j-window:j,:])\n",
        "  Y.append(Ys[j])\n",
        "X, Y = np.array(X), np.array(Y)"
      ],
      "execution_count": null,
      "outputs": [
        {
          "output_type": "stream",
          "text": [
            "time: 33.5 ms (started: 2020-12-26 11:34:35 +00:00)\n"
          ],
          "name": "stdout"
        }
      ]
    },
    {
      "cell_type": "code",
      "metadata": {
        "colab": {
          "base_uri": "https://localhost:8080/"
        },
        "id": "3Lfjr69atN7C",
        "outputId": "cdb8ab6b-75db-4d02-95ed-dcd69b7d89eb"
      },
      "source": [
        "history = model.fit(X, Y, epochs = 100, batch_size = 16, verbose=1)"
      ],
      "execution_count": null,
      "outputs": [
        {
          "output_type": "stream",
          "text": [
            "Epoch 1/100\n",
            "484/484 [==============================] - 8s 7ms/step - loss: 0.5495\n",
            "Epoch 2/100\n",
            "484/484 [==============================] - 4s 7ms/step - loss: 0.2689\n",
            "Epoch 3/100\n",
            "484/484 [==============================] - 4s 7ms/step - loss: 0.2333\n",
            "Epoch 4/100\n",
            "484/484 [==============================] - 4s 7ms/step - loss: 0.1486\n",
            "Epoch 5/100\n",
            "484/484 [==============================] - 4s 7ms/step - loss: 0.1244\n",
            "Epoch 6/100\n",
            "484/484 [==============================] - 4s 7ms/step - loss: 0.1527\n",
            "Epoch 7/100\n",
            "484/484 [==============================] - 4s 7ms/step - loss: 0.1002\n",
            "Epoch 8/100\n",
            "484/484 [==============================] - 4s 7ms/step - loss: 0.0821\n",
            "Epoch 9/100\n",
            "484/484 [==============================] - 4s 7ms/step - loss: 0.0851\n",
            "Epoch 10/100\n",
            "484/484 [==============================] - 4s 7ms/step - loss: 0.0927\n",
            "Epoch 11/100\n",
            "484/484 [==============================] - 4s 7ms/step - loss: 0.1611\n",
            "Epoch 12/100\n",
            "484/484 [==============================] - 4s 8ms/step - loss: 0.0959\n",
            "Epoch 13/100\n",
            "484/484 [==============================] - 4s 8ms/step - loss: 0.0957\n",
            "Epoch 14/100\n",
            "484/484 [==============================] - 4s 7ms/step - loss: 0.0728\n",
            "Epoch 15/100\n",
            "484/484 [==============================] - 4s 7ms/step - loss: 0.1930\n",
            "Epoch 16/100\n",
            "484/484 [==============================] - 4s 7ms/step - loss: 0.2466\n",
            "Epoch 17/100\n",
            "484/484 [==============================] - 4s 8ms/step - loss: 0.1257\n",
            "Epoch 18/100\n",
            "484/484 [==============================] - 4s 7ms/step - loss: 0.0805\n",
            "Epoch 19/100\n",
            "484/484 [==============================] - 4s 7ms/step - loss: 0.0732\n",
            "Epoch 20/100\n",
            "484/484 [==============================] - 4s 7ms/step - loss: 0.0613\n",
            "Epoch 21/100\n",
            "484/484 [==============================] - 4s 7ms/step - loss: 0.0713\n",
            "Epoch 22/100\n",
            "484/484 [==============================] - 4s 7ms/step - loss: 0.0729\n",
            "Epoch 23/100\n",
            "484/484 [==============================] - 4s 7ms/step - loss: 0.0591\n",
            "Epoch 24/100\n",
            "484/484 [==============================] - 4s 8ms/step - loss: 0.0546\n",
            "Epoch 25/100\n",
            "484/484 [==============================] - 4s 7ms/step - loss: 0.0693\n",
            "Epoch 26/100\n",
            "484/484 [==============================] - 4s 7ms/step - loss: 0.0568\n",
            "Epoch 27/100\n",
            "484/484 [==============================] - 4s 7ms/step - loss: 0.0490\n",
            "Epoch 28/100\n",
            "484/484 [==============================] - 4s 7ms/step - loss: 0.0900\n",
            "Epoch 29/100\n",
            "484/484 [==============================] - 4s 7ms/step - loss: 0.1725\n",
            "Epoch 30/100\n",
            "484/484 [==============================] - 4s 7ms/step - loss: 0.0899\n",
            "Epoch 31/100\n",
            "484/484 [==============================] - 4s 7ms/step - loss: 0.1006\n",
            "Epoch 32/100\n",
            "484/484 [==============================] - 4s 7ms/step - loss: 0.0625\n",
            "Epoch 33/100\n",
            "484/484 [==============================] - 4s 8ms/step - loss: 0.1092\n",
            "Epoch 34/100\n",
            "484/484 [==============================] - 4s 7ms/step - loss: 0.0821\n",
            "Epoch 35/100\n",
            "484/484 [==============================] - 4s 7ms/step - loss: 0.0686\n",
            "Epoch 36/100\n",
            "484/484 [==============================] - 4s 7ms/step - loss: 0.0547\n",
            "Epoch 37/100\n",
            "484/484 [==============================] - 4s 7ms/step - loss: 0.0619\n",
            "Epoch 38/100\n",
            "484/484 [==============================] - 4s 7ms/step - loss: 0.1649\n",
            "Epoch 39/100\n",
            "484/484 [==============================] - 4s 7ms/step - loss: 0.0787\n",
            "Epoch 40/100\n",
            "484/484 [==============================] - 4s 8ms/step - loss: 0.0814\n",
            "Epoch 41/100\n",
            "484/484 [==============================] - 4s 7ms/step - loss: 0.0561\n",
            "Epoch 42/100\n",
            "484/484 [==============================] - 4s 8ms/step - loss: 0.0522\n",
            "Epoch 43/100\n",
            "484/484 [==============================] - 4s 7ms/step - loss: 0.0464\n",
            "Epoch 44/100\n",
            "484/484 [==============================] - 4s 7ms/step - loss: 0.0370\n",
            "Epoch 45/100\n",
            "484/484 [==============================] - 4s 8ms/step - loss: 0.0943\n",
            "Epoch 46/100\n",
            "484/484 [==============================] - 4s 8ms/step - loss: 0.0720\n",
            "Epoch 47/100\n",
            "484/484 [==============================] - 4s 7ms/step - loss: 0.0406\n",
            "Epoch 48/100\n",
            "484/484 [==============================] - 4s 7ms/step - loss: 0.0402\n",
            "Epoch 49/100\n",
            "484/484 [==============================] - 4s 7ms/step - loss: 0.0379\n",
            "Epoch 50/100\n",
            "484/484 [==============================] - 4s 7ms/step - loss: 0.0596\n",
            "Epoch 51/100\n",
            "484/484 [==============================] - 4s 7ms/step - loss: 0.0274\n",
            "Epoch 52/100\n",
            "484/484 [==============================] - 4s 7ms/step - loss: 0.0281\n",
            "Epoch 53/100\n",
            "484/484 [==============================] - 4s 7ms/step - loss: 0.0481\n",
            "Epoch 54/100\n",
            "484/484 [==============================] - 4s 7ms/step - loss: 0.0663\n",
            "Epoch 55/100\n",
            "484/484 [==============================] - 4s 8ms/step - loss: 0.0495\n",
            "Epoch 56/100\n",
            "484/484 [==============================] - 4s 8ms/step - loss: 0.0496\n",
            "Epoch 57/100\n",
            "484/484 [==============================] - 4s 7ms/step - loss: 0.0440\n",
            "Epoch 58/100\n",
            "484/484 [==============================] - 4s 7ms/step - loss: 0.0366\n",
            "Epoch 59/100\n",
            "484/484 [==============================] - 4s 7ms/step - loss: 0.0329\n",
            "Epoch 60/100\n",
            "484/484 [==============================] - 4s 7ms/step - loss: 0.0349\n",
            "Epoch 61/100\n",
            "484/484 [==============================] - 4s 7ms/step - loss: 0.0435\n",
            "Epoch 62/100\n",
            "484/484 [==============================] - 4s 7ms/step - loss: 0.0944\n",
            "Epoch 63/100\n",
            "484/484 [==============================] - 4s 7ms/step - loss: 0.0315\n",
            "Epoch 64/100\n",
            "484/484 [==============================] - 4s 7ms/step - loss: 0.0302\n",
            "Epoch 65/100\n",
            "484/484 [==============================] - 4s 8ms/step - loss: 0.0283\n",
            "Epoch 66/100\n",
            "484/484 [==============================] - 4s 7ms/step - loss: 0.0186\n",
            "Epoch 67/100\n",
            "484/484 [==============================] - 4s 7ms/step - loss: 0.0664\n",
            "Epoch 68/100\n",
            "484/484 [==============================] - 4s 7ms/step - loss: 0.0424\n",
            "Epoch 69/100\n",
            "484/484 [==============================] - 4s 7ms/step - loss: 0.0384\n",
            "Epoch 70/100\n",
            "484/484 [==============================] - 4s 7ms/step - loss: 0.0345\n",
            "Epoch 71/100\n",
            "484/484 [==============================] - 4s 8ms/step - loss: 0.0584\n",
            "Epoch 72/100\n",
            "484/484 [==============================] - 4s 8ms/step - loss: 0.0463\n",
            "Epoch 73/100\n",
            "484/484 [==============================] - 4s 8ms/step - loss: 0.0511\n",
            "Epoch 74/100\n",
            "484/484 [==============================] - 4s 8ms/step - loss: 0.0497\n",
            "Epoch 75/100\n",
            "484/484 [==============================] - 4s 8ms/step - loss: 0.0280\n",
            "Epoch 76/100\n",
            "484/484 [==============================] - 4s 7ms/step - loss: 0.0247\n",
            "Epoch 77/100\n",
            "484/484 [==============================] - 4s 7ms/step - loss: 0.0278\n",
            "Epoch 78/100\n",
            "484/484 [==============================] - 4s 8ms/step - loss: 0.0243\n",
            "Epoch 79/100\n",
            "484/484 [==============================] - 4s 7ms/step - loss: 0.0418\n",
            "Epoch 80/100\n",
            "484/484 [==============================] - 4s 7ms/step - loss: 0.0277\n",
            "Epoch 81/100\n",
            "484/484 [==============================] - 4s 8ms/step - loss: 0.0206\n",
            "Epoch 82/100\n",
            "484/484 [==============================] - 4s 8ms/step - loss: 0.0189\n",
            "Epoch 83/100\n",
            "484/484 [==============================] - 4s 7ms/step - loss: 0.0378\n",
            "Epoch 84/100\n",
            "484/484 [==============================] - 4s 7ms/step - loss: 0.0374\n",
            "Epoch 85/100\n",
            "484/484 [==============================] - 4s 7ms/step - loss: 0.0254\n",
            "Epoch 86/100\n",
            "484/484 [==============================] - 4s 7ms/step - loss: 0.0395\n",
            "Epoch 87/100\n",
            "484/484 [==============================] - 4s 7ms/step - loss: 0.0367\n",
            "Epoch 88/100\n",
            "484/484 [==============================] - 4s 7ms/step - loss: 0.0351\n",
            "Epoch 89/100\n",
            "484/484 [==============================] - 4s 7ms/step - loss: 0.0359\n",
            "Epoch 90/100\n",
            "484/484 [==============================] - 4s 8ms/step - loss: 0.0277\n",
            "Epoch 91/100\n",
            "484/484 [==============================] - 4s 8ms/step - loss: 0.0436\n",
            "Epoch 92/100\n",
            "484/484 [==============================] - 4s 7ms/step - loss: 0.0217\n",
            "Epoch 93/100\n",
            "484/484 [==============================] - 4s 7ms/step - loss: 0.0237\n",
            "Epoch 94/100\n",
            "484/484 [==============================] - 4s 7ms/step - loss: 0.0199\n",
            "Epoch 95/100\n",
            "484/484 [==============================] - 4s 7ms/step - loss: 0.0155\n",
            "Epoch 96/100\n",
            "484/484 [==============================] - 4s 8ms/step - loss: 0.0261\n",
            "Epoch 97/100\n",
            "484/484 [==============================] - 4s 8ms/step - loss: 0.0212\n",
            "Epoch 98/100\n",
            "484/484 [==============================] - 4s 8ms/step - loss: 0.0265\n",
            "Epoch 99/100\n",
            "484/484 [==============================] - 4s 7ms/step - loss: 0.0151\n",
            "Epoch 100/100\n",
            "484/484 [==============================] - 4s 8ms/step - loss: 0.0182\n",
            "time: 6min 7s (started: 2020-12-26 11:34:37 +00:00)\n"
          ],
          "name": "stdout"
        }
      ]
    },
    {
      "cell_type": "code",
      "metadata": {
        "colab": {
          "base_uri": "https://localhost:8080/",
          "height": 406
        },
        "id": "PqX4phj8pWrS",
        "outputId": "5c960730-d337-481d-a845-aa91ce124aaf"
      },
      "source": [
        "X = []\n",
        "Y = []\n",
        "for j in range(window, len(data)-251): \n",
        "  X.append(Xs[j-window:j,:])\n",
        "  Y.append(Ys[j])\n",
        "X, Y = np.asarray(X).astype(np.float32), np.asarray(Y).astype(np.float32)\n",
        "Yp = model.predict(X)\n",
        "Yu = s2.inverse_transform(Yp)\n",
        "Ym = s2.inverse_transform(Y)\n",
        "plt.figure(figsize=(10,6))\n",
        "plt.plot(Yu , data[window:len(data)-251].index,'r:',label='LSTM')\n",
        "plt.plot(Ym , data[window:len(data)-251].index,'k',label='Measured')\n",
        "plt.xlabel('Days')\n",
        "plt.ylabel('Index')\n",
        "plt.legend()\n",
        "plt.show()\n"
      ],
      "execution_count": null,
      "outputs": [
        {
          "output_type": "display_data",
          "data": {
            "image/png": "[encoded data removed]",
            "text/plain": [
              "<Figure size 720x432 with 1 Axes>"
            ]
          },
          "metadata": {
            "tags": [],
            "needs_background": "light"
          }
        },
        {
          "output_type": "stream",
          "text": [
            "time: 1.77 s (started: 2020-12-26 11:40:45 +00:00)\n"
          ],
          "name": "stdout"
        }
      ]
    },
    {
      "cell_type": "code",
      "metadata": {
        "colab": {
          "base_uri": "https://localhost:8080/",
          "height": 406
        },
        "id": "pMCDd2wYypBe",
        "outputId": "18a40d3c-b4d2-42a4-80ae-67ab2b883fca"
      },
      "source": [
        "X = []\n",
        "Y = []\n",
        "for j in range(7783, len(data)): \n",
        "  X.append(Xs[j-window:j,:])\n",
        "  Y.append(Ys[j])\n",
        "X, Y = np.asarray(X).astype(np.float32), np.asarray(Y).astype(np.float32)\n",
        "Yp = model.predict(X)\n",
        "Yu = s2.inverse_transform(Yp)\n",
        "Ym = s2.inverse_transform(Y)\n",
        "plt.figure(figsize=(10,6))\n",
        "plt.plot(Yu , data[7783:len(data)].index,'r:',label='LSTM')\n",
        "plt.plot(Ym , data[7783:len(data)].index,'k',label='Measured')\n",
        "plt.xlabel('Days')\n",
        "plt.ylabel('Index')\n",
        "plt.legend()\n",
        "plt.show()"
      ],
      "execution_count": null,
      "outputs": [
        {
          "output_type": "display_data",
          "data": {
            "image/png": "[encoded data removed]",
            "text/plain": [
              "<Figure size 720x432 with 1 Axes>"
            ]
          },
          "metadata": {
            "tags": [],
            "needs_background": "light"
          }
        },
        {
          "output_type": "stream",
          "text": [
            "time: 283 ms (started: 2020-12-26 11:40:47 +00:00)\n"
          ],
          "name": "stdout"
        }
      ]
    },
    {
      "cell_type": "code",
      "metadata": {
        "colab": {
          "base_uri": "https://localhost:8080/"
        },
        "id": "l6tWlxHFMAKJ",
        "outputId": "5d1bf3df-f2e4-4196-999a-e5753784ce4e"
      },
      "source": [
        "def generate_X():\n",
        "    while True:\n",
        "      for j in range(window,len(data)):\n",
        "        X=[]\n",
        "        X.append(Xs[j-window:j,:])\n",
        "        X = np.array(X)\n",
        "        yield X\n",
        "\n",
        "\n",
        "def generate_y():\n",
        "    while True:\n",
        "        for j in range(window, len(data)):\n",
        "          Y=[]\n",
        "          Y.append(Ys[j])\n",
        "          Y = np.array(Y)\n",
        "          yield Y"
      ],
      "execution_count": null,
      "outputs": [
        {
          "output_type": "stream",
          "text": [
            "time: 7.86 ms (started: 2020-12-26 10:45:28 +00:00)\n"
          ],
          "name": "stdout"
        }
      ]
    },
    {
      "cell_type": "code",
      "metadata": {
        "colab": {
          "base_uri": "https://localhost:8080/"
        },
        "id": "CisxJM9oMAKK",
        "outputId": "4987bfab-805f-409e-ab1d-05cbc2c218c7"
      },
      "source": [
        "def batch_generator(batch_size, gen_x,gen_y): \n",
        "\n",
        "    batch_features = np.zeros((batch_size,window, 9))\n",
        "    batch_labels = np.zeros((batch_size,window))\n",
        "\n",
        "    while True:\n",
        "        for i in range(batch_size):\n",
        "            batch_features[i] = next(gen_x)\n",
        "            batch_labels[i] = next(gen_y)\n",
        "        yield batch_features, batch_labels"
      ],
      "execution_count": null,
      "outputs": [
        {
          "output_type": "stream",
          "text": [
            "time: 4.83 ms (started: 2020-12-26 10:45:28 +00:00)\n"
          ],
          "name": "stdout"
        }
      ]
    },
    {
      "cell_type": "code",
      "metadata": {
        "colab": {
          "base_uri": "https://localhost:8080/"
        },
        "id": "1GP-zD0eMAKK",
        "outputId": "06d24332-912e-4123-c859-93757dff7e29"
      },
      "source": [
        "model.fit_generator(batch_generator(32, generate_X(), generate_y()),\n",
        "                    steps_per_epoch=(len(data)/window), epochs=2, verbose=1)"
      ],
      "execution_count": null,
      "outputs": [
        {
          "output_type": "stream",
          "text": [
            "/usr/local/lib/python3.6/dist-packages/tensorflow/python/keras/engine/training.py:1844: UserWarning: `Model.fit_generator` is deprecated and will be removed in a future version. Please use `Model.fit`, which supports generators.\n",
            "  warnings.warn('`Model.fit_generator` is deprecated and '\n"
          ],
          "name": "stderr"
        },
        {
          "output_type": "stream",
          "text": [
            "Epoch 1/2\n",
            "174/174 [==============================] - 5s 8ms/step - loss: 0.0932\n",
            "Epoch 2/2\n",
            "174/174 [==============================] - 1s 8ms/step - loss: 0.0142\n"
          ],
          "name": "stdout"
        },
        {
          "output_type": "execute_result",
          "data": {
            "text/plain": [
              "<tensorflow.python.keras.callbacks.History at 0x7f514e5015c0>"
            ]
          },
          "metadata": {
            "tags": []
          },
          "execution_count": 34
        },
        {
          "output_type": "stream",
          "text": [
            "time: 13.3 s (started: 2020-12-26 10:45:28 +00:00)\n"
          ],
          "name": "stdout"
        }
      ]
    },
    {
      "cell_type": "code",
      "metadata": {
        "colab": {
          "base_uri": "https://localhost:8080/"
        },
        "id": "r0VbAu-Towd0",
        "outputId": "ae818bc1-fca0-4b74-e5d0-29787d6472c4"
      },
      "source": [
        "def generate_X():\n",
        "    while True:\n",
        "      for j in range(7000,len(data)):\n",
        "        X=[]\n",
        "        X.append(Xs[j-window:j,:])\n",
        "        X = np.array(X)\n",
        "        yield X\n",
        "\n",
        "\n",
        "def generate_y():\n",
        "    while True:\n",
        "        for j in range(7000, len(data)):\n",
        "          Y=[]\n",
        "          Y.append(Ys[j])\n",
        "          Y = np.array(Y)\n",
        "          yield Y"
      ],
      "execution_count": null,
      "outputs": [
        {
          "output_type": "stream",
          "text": [
            "time: 6.33 ms (started: 2020-12-26 10:45:41 +00:00)\n"
          ],
          "name": "stdout"
        }
      ]
    },
    {
      "cell_type": "code",
      "metadata": {
        "colab": {
          "base_uri": "https://localhost:8080/"
        },
        "id": "UyfEnRIlowd2",
        "outputId": "29cb3389-34a6-424d-b6e4-c668f3259c1c"
      },
      "source": [
        "def batch_generator(batch_size, gen_x,gen_y): \n",
        "\n",
        "    batch_features = np.zeros((batch_size,window, 9))\n",
        "    batch_labels = np.zeros((batch_size,window))\n",
        "\n",
        "    while True:\n",
        "        for i in range(batch_size):\n",
        "            batch_features[i] = next(gen_x)\n",
        "            batch_labels[i] = next(gen_y)\n",
        "        yield batch_features, batch_labels"
      ],
      "execution_count": null,
      "outputs": [
        {
          "output_type": "stream",
          "text": [
            "time: 4.26 ms (started: 2020-12-26 10:45:41 +00:00)\n"
          ],
          "name": "stdout"
        }
      ]
    },
    {
      "cell_type": "code",
      "metadata": {
        "colab": {
          "base_uri": "https://localhost:8080/",
          "height": 390
        },
        "id": "Fvg0BsI3L_tj",
        "outputId": "a150c12f-7679-45d4-9855-fd6fedfc850c"
      },
      "source": [
        "testPredict = model.predict_generator(batch_generator(32, generate_X(), generate_y()))"
      ],
      "execution_count": null,
      "outputs": [
        {
          "output_type": "stream",
          "text": [
            "/usr/local/lib/python3.6/dist-packages/tensorflow/python/keras/engine/training.py:1905: UserWarning: `Model.predict_generator` is deprecated and will be removed in a future version. Please use `Model.predict`, which supports generators.\n",
            "  warnings.warn('`Model.predict_generator` is deprecated and '\n"
          ],
          "name": "stderr"
        },
        {
          "output_type": "error",
          "ename": "KeyboardInterrupt",
          "evalue": "ignored",
          "traceback": [
            "\u001b[0;31m---------------------------------------------------------------------------\u001b[0m",
            "\u001b[0;31mKeyboardInterrupt\u001b[0m                         Traceback (most recent call last)",
            "\u001b[0;32m<ipython-input-38-9e8578329529>\u001b[0m in \u001b[0;36m<module>\u001b[0;34m()\u001b[0m\n\u001b[0;32m----> 1\u001b[0;31m \u001b[0mtestPredict\u001b[0m \u001b[0;34m=\u001b[0m \u001b[0mmodel\u001b[0m\u001b[0;34m.\u001b[0m\u001b[0mpredict_generator\u001b[0m\u001b[0;34m(\u001b[0m\u001b[0mbatch_generator\u001b[0m\u001b[0;34m(\u001b[0m\u001b[0;36m32\u001b[0m\u001b[0;34m,\u001b[0m \u001b[0mgenerate_X\u001b[0m\u001b[0;34m(\u001b[0m\u001b[0;34m)\u001b[0m\u001b[0;34m,\u001b[0m \u001b[0mgenerate_y\u001b[0m\u001b[0;34m(\u001b[0m\u001b[0;34m)\u001b[0m\u001b[0;34m)\u001b[0m\u001b[0;34m)\u001b[0m\u001b[0;34m\u001b[0m\u001b[0;34m\u001b[0m\u001b[0m\n\u001b[0m",
            "\u001b[0;32m/usr/local/lib/python3.6/dist-packages/tensorflow/python/keras/engine/training.py\u001b[0m in \u001b[0;36mpredict_generator\u001b[0;34m(self, generator, steps, callbacks, max_queue_size, workers, use_multiprocessing, verbose)\u001b[0m\n\u001b[1;32m   1913\u001b[0m         \u001b[0muse_multiprocessing\u001b[0m\u001b[0;34m=\u001b[0m\u001b[0muse_multiprocessing\u001b[0m\u001b[0;34m,\u001b[0m\u001b[0;34m\u001b[0m\u001b[0;34m\u001b[0m\u001b[0m\n\u001b[1;32m   1914\u001b[0m         \u001b[0mverbose\u001b[0m\u001b[0;34m=\u001b[0m\u001b[0mverbose\u001b[0m\u001b[0;34m,\u001b[0m\u001b[0;34m\u001b[0m\u001b[0;34m\u001b[0m\u001b[0m\n\u001b[0;32m-> 1915\u001b[0;31m         callbacks=callbacks)\n\u001b[0m\u001b[1;32m   1916\u001b[0m \u001b[0;34m\u001b[0m\u001b[0m\n\u001b[1;32m   1917\u001b[0m   \u001b[0;31m######################################################################\u001b[0m\u001b[0;34m\u001b[0m\u001b[0;34m\u001b[0m\u001b[0;34m\u001b[0m\u001b[0m\n",
            "\u001b[0;32m/usr/local/lib/python3.6/dist-packages/tensorflow/python/keras/engine/training.py\u001b[0m in \u001b[0;36mpredict\u001b[0;34m(self, x, batch_size, verbose, steps, callbacks, max_queue_size, workers, use_multiprocessing)\u001b[0m\n\u001b[1;32m   1627\u001b[0m           \u001b[0;32mfor\u001b[0m \u001b[0mstep\u001b[0m \u001b[0;32min\u001b[0m \u001b[0mdata_handler\u001b[0m\u001b[0;34m.\u001b[0m\u001b[0msteps\u001b[0m\u001b[0;34m(\u001b[0m\u001b[0;34m)\u001b[0m\u001b[0;34m:\u001b[0m\u001b[0;34m\u001b[0m\u001b[0;34m\u001b[0m\u001b[0m\n\u001b[1;32m   1628\u001b[0m             \u001b[0mcallbacks\u001b[0m\u001b[0;34m.\u001b[0m\u001b[0mon_predict_batch_begin\u001b[0m\u001b[0;34m(\u001b[0m\u001b[0mstep\u001b[0m\u001b[0;34m)\u001b[0m\u001b[0;34m\u001b[0m\u001b[0;34m\u001b[0m\u001b[0m\n\u001b[0;32m-> 1629\u001b[0;31m             \u001b[0mtmp_batch_outputs\u001b[0m \u001b[0;34m=\u001b[0m \u001b[0mself\u001b[0m\u001b[0;34m.\u001b[0m\u001b[0mpredict_function\u001b[0m\u001b[0;34m(\u001b[0m\u001b[0miterator\u001b[0m\u001b[0;34m)\u001b[0m\u001b[0;34m\u001b[0m\u001b[0;34m\u001b[0m\u001b[0m\n\u001b[0m\u001b[1;32m   1630\u001b[0m             \u001b[0;32mif\u001b[0m \u001b[0mdata_handler\u001b[0m\u001b[0;34m.\u001b[0m\u001b[0mshould_sync\u001b[0m\u001b[0;34m:\u001b[0m\u001b[0;34m\u001b[0m\u001b[0;34m\u001b[0m\u001b[0m\n\u001b[1;32m   1631\u001b[0m               \u001b[0mcontext\u001b[0m\u001b[0;34m.\u001b[0m\u001b[0masync_wait\u001b[0m\u001b[0;34m(\u001b[0m\u001b[0;34m)\u001b[0m\u001b[0;34m\u001b[0m\u001b[0;34m\u001b[0m\u001b[0m\n",
            "\u001b[0;32m/usr/local/lib/python3.6/dist-packages/tensorflow/python/eager/def_function.py\u001b[0m in \u001b[0;36m__call__\u001b[0;34m(self, *args, **kwds)\u001b[0m\n\u001b[1;32m    826\u001b[0m     \u001b[0mtracing_count\u001b[0m \u001b[0;34m=\u001b[0m \u001b[0mself\u001b[0m\u001b[0;34m.\u001b[0m\u001b[0mexperimental_get_tracing_count\u001b[0m\u001b[0;34m(\u001b[0m\u001b[0;34m)\u001b[0m\u001b[0;34m\u001b[0m\u001b[0;34m\u001b[0m\u001b[0m\n\u001b[1;32m    827\u001b[0m     \u001b[0;32mwith\u001b[0m \u001b[0mtrace\u001b[0m\u001b[0;34m.\u001b[0m\u001b[0mTrace\u001b[0m\u001b[0;34m(\u001b[0m\u001b[0mself\u001b[0m\u001b[0;34m.\u001b[0m\u001b[0m_name\u001b[0m\u001b[0;34m)\u001b[0m \u001b[0;32mas\u001b[0m \u001b[0mtm\u001b[0m\u001b[0;34m:\u001b[0m\u001b[0;34m\u001b[0m\u001b[0;34m\u001b[0m\u001b[0m\n\u001b[0;32m--> 828\u001b[0;31m       \u001b[0mresult\u001b[0m \u001b[0;34m=\u001b[0m \u001b[0mself\u001b[0m\u001b[0;34m.\u001b[0m\u001b[0m_call\u001b[0m\u001b[0;34m(\u001b[0m\u001b[0;34m*\u001b[0m\u001b[0margs\u001b[0m\u001b[0;34m,\u001b[0m \u001b[0;34m**\u001b[0m\u001b[0mkwds\u001b[0m\u001b[0;34m)\u001b[0m\u001b[0;34m\u001b[0m\u001b[0;34m\u001b[0m\u001b[0m\n\u001b[0m\u001b[1;32m    829\u001b[0m       \u001b[0mcompiler\u001b[0m \u001b[0;34m=\u001b[0m \u001b[0;34m\"xla\"\u001b[0m \u001b[0;32mif\u001b[0m \u001b[0mself\u001b[0m\u001b[0;34m.\u001b[0m\u001b[0m_experimental_compile\u001b[0m \u001b[0;32melse\u001b[0m \u001b[0;34m\"nonXla\"\u001b[0m\u001b[0;34m\u001b[0m\u001b[0;34m\u001b[0m\u001b[0m\n\u001b[1;32m    830\u001b[0m       \u001b[0mnew_tracing_count\u001b[0m \u001b[0;34m=\u001b[0m \u001b[0mself\u001b[0m\u001b[0;34m.\u001b[0m\u001b[0mexperimental_get_tracing_count\u001b[0m\u001b[0;34m(\u001b[0m\u001b[0;34m)\u001b[0m\u001b[0;34m\u001b[0m\u001b[0;34m\u001b[0m\u001b[0m\n",
            "\u001b[0;32m/usr/local/lib/python3.6/dist-packages/tensorflow/python/eager/def_function.py\u001b[0m in \u001b[0;36m_call\u001b[0;34m(self, *args, **kwds)\u001b[0m\n\u001b[1;32m    860\u001b[0m       \u001b[0;31m# In this case we have not created variables on the first call. So we can\u001b[0m\u001b[0;34m\u001b[0m\u001b[0;34m\u001b[0m\u001b[0;34m\u001b[0m\u001b[0m\n\u001b[1;32m    861\u001b[0m       \u001b[0;31m# run the first trace but we should fail if variables are created.\u001b[0m\u001b[0;34m\u001b[0m\u001b[0;34m\u001b[0m\u001b[0;34m\u001b[0m\u001b[0m\n\u001b[0;32m--> 862\u001b[0;31m       \u001b[0mresults\u001b[0m \u001b[0;34m=\u001b[0m \u001b[0mself\u001b[0m\u001b[0;34m.\u001b[0m\u001b[0m_stateful_fn\u001b[0m\u001b[0;34m(\u001b[0m\u001b[0;34m*\u001b[0m\u001b[0margs\u001b[0m\u001b[0;34m,\u001b[0m \u001b[0;34m**\u001b[0m\u001b[0mkwds\u001b[0m\u001b[0;34m)\u001b[0m\u001b[0;34m\u001b[0m\u001b[0;34m\u001b[0m\u001b[0m\n\u001b[0m\u001b[1;32m    863\u001b[0m       \u001b[0;32mif\u001b[0m \u001b[0mself\u001b[0m\u001b[0;34m.\u001b[0m\u001b[0m_created_variables\u001b[0m\u001b[0;34m:\u001b[0m\u001b[0;34m\u001b[0m\u001b[0;34m\u001b[0m\u001b[0m\n\u001b[1;32m    864\u001b[0m         raise ValueError(\"Creating variables on a non-first call to a function\"\n",
            "\u001b[0;32m/usr/local/lib/python3.6/dist-packages/tensorflow/python/eager/function.py\u001b[0m in \u001b[0;36m__call__\u001b[0;34m(self, *args, **kwargs)\u001b[0m\n\u001b[1;32m   2941\u001b[0m        filtered_flat_args) = self._maybe_define_function(args, kwargs)\n\u001b[1;32m   2942\u001b[0m     return graph_function._call_flat(\n\u001b[0;32m-> 2943\u001b[0;31m         filtered_flat_args, captured_inputs=graph_function.captured_inputs)  # pylint: disable=protected-access\n\u001b[0m\u001b[1;32m   2944\u001b[0m \u001b[0;34m\u001b[0m\u001b[0m\n\u001b[1;32m   2945\u001b[0m   \u001b[0;34m@\u001b[0m\u001b[0mproperty\u001b[0m\u001b[0;34m\u001b[0m\u001b[0;34m\u001b[0m\u001b[0m\n",
            "\u001b[0;32m/usr/local/lib/python3.6/dist-packages/tensorflow/python/eager/function.py\u001b[0m in \u001b[0;36m_call_flat\u001b[0;34m(self, args, captured_inputs, cancellation_manager)\u001b[0m\n\u001b[1;32m   1917\u001b[0m       \u001b[0;31m# No tape is watching; skip to running the function.\u001b[0m\u001b[0;34m\u001b[0m\u001b[0;34m\u001b[0m\u001b[0;34m\u001b[0m\u001b[0m\n\u001b[1;32m   1918\u001b[0m       return self._build_call_outputs(self._inference_function.call(\n\u001b[0;32m-> 1919\u001b[0;31m           ctx, args, cancellation_manager=cancellation_manager))\n\u001b[0m\u001b[1;32m   1920\u001b[0m     forward_backward = self._select_forward_and_backward_functions(\n\u001b[1;32m   1921\u001b[0m         \u001b[0margs\u001b[0m\u001b[0;34m,\u001b[0m\u001b[0;34m\u001b[0m\u001b[0;34m\u001b[0m\u001b[0m\n",
            "\u001b[0;32m/usr/local/lib/python3.6/dist-packages/tensorflow/python/eager/function.py\u001b[0m in \u001b[0;36mcall\u001b[0;34m(self, ctx, args, cancellation_manager)\u001b[0m\n\u001b[1;32m    558\u001b[0m               \u001b[0minputs\u001b[0m\u001b[0;34m=\u001b[0m\u001b[0margs\u001b[0m\u001b[0;34m,\u001b[0m\u001b[0;34m\u001b[0m\u001b[0;34m\u001b[0m\u001b[0m\n\u001b[1;32m    559\u001b[0m               \u001b[0mattrs\u001b[0m\u001b[0;34m=\u001b[0m\u001b[0mattrs\u001b[0m\u001b[0;34m,\u001b[0m\u001b[0;34m\u001b[0m\u001b[0;34m\u001b[0m\u001b[0m\n\u001b[0;32m--> 560\u001b[0;31m               ctx=ctx)\n\u001b[0m\u001b[1;32m    561\u001b[0m         \u001b[0;32melse\u001b[0m\u001b[0;34m:\u001b[0m\u001b[0;34m\u001b[0m\u001b[0;34m\u001b[0m\u001b[0m\n\u001b[1;32m    562\u001b[0m           outputs = execute.execute_with_cancellation(\n",
            "\u001b[0;32m/usr/local/lib/python3.6/dist-packages/tensorflow/python/eager/execute.py\u001b[0m in \u001b[0;36mquick_execute\u001b[0;34m(op_name, num_outputs, inputs, attrs, ctx, name)\u001b[0m\n\u001b[1;32m     58\u001b[0m     \u001b[0mctx\u001b[0m\u001b[0;34m.\u001b[0m\u001b[0mensure_initialized\u001b[0m\u001b[0;34m(\u001b[0m\u001b[0;34m)\u001b[0m\u001b[0;34m\u001b[0m\u001b[0;34m\u001b[0m\u001b[0m\n\u001b[1;32m     59\u001b[0m     tensors = pywrap_tfe.TFE_Py_Execute(ctx._handle, device_name, op_name,\n\u001b[0;32m---> 60\u001b[0;31m                                         inputs, attrs, num_outputs)\n\u001b[0m\u001b[1;32m     61\u001b[0m   \u001b[0;32mexcept\u001b[0m \u001b[0mcore\u001b[0m\u001b[0;34m.\u001b[0m\u001b[0m_NotOkStatusException\u001b[0m \u001b[0;32mas\u001b[0m \u001b[0me\u001b[0m\u001b[0;34m:\u001b[0m\u001b[0;34m\u001b[0m\u001b[0;34m\u001b[0m\u001b[0m\n\u001b[1;32m     62\u001b[0m     \u001b[0;32mif\u001b[0m \u001b[0mname\u001b[0m \u001b[0;32mis\u001b[0m \u001b[0;32mnot\u001b[0m \u001b[0;32mNone\u001b[0m\u001b[0;34m:\u001b[0m\u001b[0;34m\u001b[0m\u001b[0;34m\u001b[0m\u001b[0m\n",
            "\u001b[0;31mKeyboardInterrupt\u001b[0m: "
          ]
        },
        {
          "output_type": "stream",
          "text": [
            "time: 2.85 s (started: 2020-12-26 10:55:19 +00:00)\n"
          ],
          "name": "stdout"
        }
      ]
    },
    {
      "cell_type": "code",
      "metadata": {
        "id": "iNkh_OFzQar6"
      },
      "source": [
        "Yp = model.predict_generator(batch_generator(32, generate_X(), generate_y()))\n",
        "Yu = s2.inverse_transform(Yp)\n",
        "Ym = s2.inverse_transform(Y)\n",
        "plt.figure(figsize=(10,6))\n",
        "plt.plot(Yu , df[training_indexes[count]+window:no_of_persons[count]].index,'r:',label='LSTM')\n",
        "plt.plot(Ym , df[training_indexes[count]+window:no_of_persons[count]].index,'k',label='Measured')\n",
        "plt.xlabel('Days')\n",
        "plt.ylabel('Index')\n",
        "plt.legend()\n",
        "plt.show()"
      ],
      "execution_count": null,
      "outputs": []
    },
    {
      "cell_type": "code",
      "metadata": {
        "colab": {
          "base_uri": "https://localhost:8080/",
          "height": 832
        },
        "id": "Yds5D5CJPbB6",
        "outputId": "29d53e95-5ce9-4071-dba1-7473b47f8f7c"
      },
      "source": [
        "count= 36\n",
        "window = 3000\n",
        "\n",
        "for i in range(44,46):\n",
        "  X = []\n",
        "  Y = []\n",
        "  if(i not in missing):\n",
        "    print('Patient : ',i)\n",
        "    window = 3000\n",
        "    window = min(window,no_of_persons[count]-training_indexes[count]-1)\n",
        "    for j in range(training_indexes[count]+window, no_of_persons[count]):\n",
        "      \n",
        "      X.append(Xs[j-window:j,:])\n",
        "      Y.append(Ys[j])\n",
        "    X, Y = np.array(X), np.array(Y)\n",
        "    Yp = model.predict(X)\n",
        "    Yu = s2.inverse_transform(Yp)\n",
        "    Ym = s2.inverse_transform(Y)\n",
        "    plt.figure(figsize=(10,6))\n",
        "    plt.plot(Yu , df[training_indexes[count]+window:no_of_persons[count]].index,'r:',label='LSTM')\n",
        "    plt.plot(Ym , df[training_indexes[count]+window:no_of_persons[count]].index,'k',label='Measured')\n",
        "    plt.xlabel('Days')\n",
        "    plt.ylabel('Index')\n",
        "    plt.legend()\n",
        "    plt.show()\n",
        "    count=count+1"
      ],
      "execution_count": null,
      "outputs": [
        {
          "output_type": "stream",
          "text": [
            "Patient :  44\n"
          ],
          "name": "stdout"
        },
        {
          "output_type": "display_data",
          "data": {
            "image/png": "[encoded data removed]",
            "text/plain": [
              "<Figure size 720x432 with 1 Axes>"
            ]
          },
          "metadata": {
            "tags": [],
            "needs_background": "light"
          }
        },
        {
          "output_type": "stream",
          "text": [
            "Patient :  45\n"
          ],
          "name": "stdout"
        },
        {
          "output_type": "display_data",
          "data": {
            "image/png": "[encoded data removed]",
            "text/plain": [
              "<Figure size 720x432 with 1 Axes>"
            ]
          },
          "metadata": {
            "tags": [],
            "needs_background": "light"
          }
        },
        {
          "output_type": "stream",
          "text": [
            "time: 51.2 s (started: 2020-12-21 15:38:25 +00:00)\n"
          ],
          "name": "stdout"
        }
      ]
    },
    {
      "cell_type": "code",
      "metadata": {
        "id": "tOrlSUlML_qP"
      },
      "source": [
        ""
      ],
      "execution_count": null,
      "outputs": []
    },
    {
      "cell_type": "code",
      "metadata": {
        "id": "dCTwWFStL_nn"
      },
      "source": [
        ""
      ],
      "execution_count": null,
      "outputs": []
    },
    {
      "cell_type": "code",
      "metadata": {
        "id": "JQcCs73-L_k0"
      },
      "source": [
        ""
      ],
      "execution_count": null,
      "outputs": []
    },
    {
      "cell_type": "code",
      "metadata": {
        "id": "qJlarB2PL_NR"
      },
      "source": [
        ""
      ],
      "execution_count": null,
      "outputs": []
    },
    {
      "cell_type": "code",
      "metadata": {
        "colab": {
          "base_uri": "https://localhost:8080/"
        },
        "id": "_bbrK7eJj2I9",
        "outputId": "733fdb35-29d8-4dd5-d50a-94630f476e59"
      },
      "source": [
        "#Pat01['DateTime'] = df.loc[df['PATIENT']=='HP01']['DateTime']"
      ],
      "execution_count": null,
      "outputs": [
        {
          "output_type": "stream",
          "text": [
            "time: 697 µs (started: 2020-12-23 12:29:03 +00:00)\n"
          ],
          "name": "stdout"
        }
      ]
    },
    {
      "cell_type": "code",
      "metadata": {
        "colab": {
          "base_uri": "https://localhost:8080/"
        },
        "id": "H276viwck1qE",
        "outputId": "fe17cd69-b31a-486d-e472-6041f71ee3a7"
      },
      "source": [
        "Pat01one = Pat01.loc[Pat01['DateTime'].dt.date==pd.Timestamp('2019-09-03')]\n",
        "#Pat01['DateTime'].dt.date"
      ],
      "execution_count": null,
      "outputs": [
        {
          "output_type": "stream",
          "text": [
            "time: 77.4 ms (started: 2020-12-23 12:40:06 +00:00)\n"
          ],
          "name": "stdout"
        }
      ]
    },
    {
      "cell_type": "code",
      "metadata": {
        "colab": {
          "base_uri": "https://localhost:8080/",
          "height": 511
        },
        "id": "Nwpe5dNFj8Ps",
        "outputId": "88e36b78-42ad-475c-9acc-9088427c46db"
      },
      "source": [
        "round(Pat01one.groupby(Pat01one.DateTime.dt.hour).mean())"
      ],
      "execution_count": null,
      "outputs": [
        {
          "output_type": "execute_result",
          "data": {
            "text/html": [
              "<div>\n",
              "<style scoped>\n",
              "    .dataframe tbody tr th:only-of-type {\n",
              "        vertical-align: middle;\n",
              "    }\n",
              "\n",
              "    .dataframe tbody tr th {\n",
              "        vertical-align: top;\n",
              "    }\n",
              "\n",
              "    .dataframe thead th {\n",
              "        text-align: right;\n",
              "    }\n",
              "</style>\n",
              "<table border=\"1\" class=\"dataframe\">\n",
              "  <thead>\n",
              "    <tr style=\"text-align: right;\">\n",
              "      <th></th>\n",
              "      <th>ACT</th>\n",
              "      <th>Angle</th>\n",
              "      <th>Spin</th>\n",
              "    </tr>\n",
              "    <tr>\n",
              "      <th>DateTime</th>\n",
              "      <th></th>\n",
              "      <th></th>\n",
              "      <th></th>\n",
              "    </tr>\n",
              "  </thead>\n",
              "  <tbody>\n",
              "    <tr>\n",
              "      <th>10</th>\n",
              "      <td>7.0</td>\n",
              "      <td>3.0</td>\n",
              "      <td>5.0</td>\n",
              "    </tr>\n",
              "    <tr>\n",
              "      <th>11</th>\n",
              "      <td>3.0</td>\n",
              "      <td>2.0</td>\n",
              "      <td>3.0</td>\n",
              "    </tr>\n",
              "    <tr>\n",
              "      <th>12</th>\n",
              "      <td>5.0</td>\n",
              "      <td>3.0</td>\n",
              "      <td>4.0</td>\n",
              "    </tr>\n",
              "    <tr>\n",
              "      <th>13</th>\n",
              "      <td>5.0</td>\n",
              "      <td>3.0</td>\n",
              "      <td>4.0</td>\n",
              "    </tr>\n",
              "    <tr>\n",
              "      <th>14</th>\n",
              "      <td>2.0</td>\n",
              "      <td>2.0</td>\n",
              "      <td>2.0</td>\n",
              "    </tr>\n",
              "    <tr>\n",
              "      <th>15</th>\n",
              "      <td>3.0</td>\n",
              "      <td>4.0</td>\n",
              "      <td>5.0</td>\n",
              "    </tr>\n",
              "    <tr>\n",
              "      <th>16</th>\n",
              "      <td>0.0</td>\n",
              "      <td>0.0</td>\n",
              "      <td>0.0</td>\n",
              "    </tr>\n",
              "    <tr>\n",
              "      <th>17</th>\n",
              "      <td>0.0</td>\n",
              "      <td>0.0</td>\n",
              "      <td>0.0</td>\n",
              "    </tr>\n",
              "    <tr>\n",
              "      <th>18</th>\n",
              "      <td>0.0</td>\n",
              "      <td>0.0</td>\n",
              "      <td>0.0</td>\n",
              "    </tr>\n",
              "    <tr>\n",
              "      <th>19</th>\n",
              "      <td>0.0</td>\n",
              "      <td>0.0</td>\n",
              "      <td>0.0</td>\n",
              "    </tr>\n",
              "    <tr>\n",
              "      <th>20</th>\n",
              "      <td>0.0</td>\n",
              "      <td>0.0</td>\n",
              "      <td>0.0</td>\n",
              "    </tr>\n",
              "    <tr>\n",
              "      <th>21</th>\n",
              "      <td>0.0</td>\n",
              "      <td>0.0</td>\n",
              "      <td>0.0</td>\n",
              "    </tr>\n",
              "    <tr>\n",
              "      <th>22</th>\n",
              "      <td>0.0</td>\n",
              "      <td>0.0</td>\n",
              "      <td>0.0</td>\n",
              "    </tr>\n",
              "    <tr>\n",
              "      <th>23</th>\n",
              "      <td>0.0</td>\n",
              "      <td>0.0</td>\n",
              "      <td>0.0</td>\n",
              "    </tr>\n",
              "  </tbody>\n",
              "</table>\n",
              "</div>"
            ],
            "text/plain": [
              "          ACT  Angle  Spin\n",
              "DateTime                  \n",
              "10        7.0    3.0   5.0\n",
              "11        3.0    2.0   3.0\n",
              "12        5.0    3.0   4.0\n",
              "13        5.0    3.0   4.0\n",
              "14        2.0    2.0   2.0\n",
              "15        3.0    4.0   5.0\n",
              "16        0.0    0.0   0.0\n",
              "17        0.0    0.0   0.0\n",
              "18        0.0    0.0   0.0\n",
              "19        0.0    0.0   0.0\n",
              "20        0.0    0.0   0.0\n",
              "21        0.0    0.0   0.0\n",
              "22        0.0    0.0   0.0\n",
              "23        0.0    0.0   0.0"
            ]
          },
          "metadata": {
            "tags": []
          },
          "execution_count": 76
        },
        {
          "output_type": "stream",
          "text": [
            "time: 19.9 ms (started: 2020-12-23 12:40:10 +00:00)\n"
          ],
          "name": "stdout"
        }
      ]
    },
    {
      "cell_type": "code",
      "metadata": {
        "colab": {
          "base_uri": "https://localhost:8080/"
        },
        "id": "OXFPa7lig6La",
        "outputId": "07bf0dfb-3b08-4098-a580-e6a59a27df09"
      },
      "source": [
        "# Group the data by the index's hour value, then aggregate by the average\n",
        "t = df.groupby(df.DateTime.dt.hour).agg(pd.Series.mode)"
      ],
      "execution_count": null,
      "outputs": [
        {
          "output_type": "stream",
          "text": [
            "time: 1.13 s (started: 2020-12-23 12:22:31 +00:00)\n"
          ],
          "name": "stdout"
        }
      ]
    },
    {
      "cell_type": "code",
      "metadata": {
        "colab": {
          "base_uri": "https://localhost:8080/"
        },
        "id": "nCMPgJ4ehp-5",
        "outputId": "85f19d1e-edbb-4fd8-f03d-2888a64379de"
      },
      "source": [
        "print(t)"
      ],
      "execution_count": null,
      "outputs": [
        {
          "output_type": "stream",
          "text": [
            "          ACT  Angle  Spin PATIENT\n",
            "DateTime                          \n",
            "0         0.0    0.0   0.0    HP21\n",
            "1         0.0    0.0   0.0    HP21\n",
            "2         0.0    0.0   0.0    HP21\n",
            "3         0.0    0.0   0.0    HP21\n",
            "4         0.0    0.0   0.0    HP21\n",
            "5         0.0    0.0   0.0    HP21\n",
            "6         0.0    0.0   0.0    HP21\n",
            "7         0.0    0.0   0.0    HP21\n",
            "8         0.0    0.0   0.0    HP21\n",
            "9         0.0    0.0   0.0    HP21\n",
            "10        0.0    0.0   0.0    HP21\n",
            "11        0.0    0.0   0.0    HP21\n",
            "12        0.0    0.0   0.0    HP21\n",
            "13        0.0    0.0   0.0    HP21\n",
            "14        0.0    0.0   0.0    HP21\n",
            "15        0.0    0.0   0.0    HP21\n",
            "16        0.0    0.0   0.0    HP21\n",
            "17        0.0    0.0   0.0    HP21\n",
            "18        0.0    0.0   0.0    HP21\n",
            "19        0.0    0.0   0.0    HP21\n",
            "20        0.0    0.0   0.0    HP21\n",
            "21        0.0    0.0   0.0    HP21\n",
            "22        0.0    0.0   0.0    HP21\n",
            "23        0.0    0.0   0.0    HP21\n",
            "time: 13.4 ms (started: 2020-12-23 12:22:34 +00:00)\n"
          ],
          "name": "stdout"
        }
      ]
    },
    {
      "cell_type": "code",
      "metadata": {
        "id": "IVvcsnyGhp5J"
      },
      "source": [
        ""
      ],
      "execution_count": null,
      "outputs": []
    },
    {
      "cell_type": "code",
      "metadata": {
        "colab": {
          "base_uri": "https://localhost:8080/",
          "height": 295
        },
        "id": "SJUy0wDEf3Cm",
        "outputId": "3b184aff-5342-4e48-b58e-63779718af2c"
      },
      "source": [
        "df.groupby(df.DateTime.).value_col.sum()"
      ],
      "execution_count": null,
      "outputs": [
        {
          "output_type": "error",
          "ename": "AttributeError",
          "evalue": "ignored",
          "traceback": [
            "\u001b[0;31m---------------------------------------------------------------------------\u001b[0m",
            "\u001b[0;31mAttributeError\u001b[0m                            Traceback (most recent call last)",
            "\u001b[0;32m<ipython-input-10-2b33c5ecb3ee>\u001b[0m in \u001b[0;36m<module>\u001b[0;34m()\u001b[0m\n\u001b[0;32m----> 1\u001b[0;31m \u001b[0mdf\u001b[0m\u001b[0;34m.\u001b[0m\u001b[0mgroupby\u001b[0m\u001b[0;34m(\u001b[0m\u001b[0mdf\u001b[0m\u001b[0;34m.\u001b[0m\u001b[0mDateTime\u001b[0m\u001b[0;34m.\u001b[0m\u001b[0mtime\u001b[0m\u001b[0;34m)\u001b[0m\u001b[0;34m.\u001b[0m\u001b[0mvalue_col\u001b[0m\u001b[0;34m.\u001b[0m\u001b[0msum\u001b[0m\u001b[0;34m(\u001b[0m\u001b[0;34m)\u001b[0m\u001b[0;34m\u001b[0m\u001b[0;34m\u001b[0m\u001b[0m\n\u001b[0m",
            "\u001b[0;32m/usr/local/lib/python3.6/dist-packages/pandas/core/generic.py\u001b[0m in \u001b[0;36m__getattr__\u001b[0;34m(self, name)\u001b[0m\n\u001b[1;32m   5139\u001b[0m             \u001b[0;32mif\u001b[0m \u001b[0mself\u001b[0m\u001b[0;34m.\u001b[0m\u001b[0m_info_axis\u001b[0m\u001b[0;34m.\u001b[0m\u001b[0m_can_hold_identifiers_and_holds_name\u001b[0m\u001b[0;34m(\u001b[0m\u001b[0mname\u001b[0m\u001b[0;34m)\u001b[0m\u001b[0;34m:\u001b[0m\u001b[0;34m\u001b[0m\u001b[0;34m\u001b[0m\u001b[0m\n\u001b[1;32m   5140\u001b[0m                 \u001b[0;32mreturn\u001b[0m \u001b[0mself\u001b[0m\u001b[0;34m[\u001b[0m\u001b[0mname\u001b[0m\u001b[0;34m]\u001b[0m\u001b[0;34m\u001b[0m\u001b[0;34m\u001b[0m\u001b[0m\n\u001b[0;32m-> 5141\u001b[0;31m             \u001b[0;32mreturn\u001b[0m \u001b[0mobject\u001b[0m\u001b[0;34m.\u001b[0m\u001b[0m__getattribute__\u001b[0m\u001b[0;34m(\u001b[0m\u001b[0mself\u001b[0m\u001b[0;34m,\u001b[0m \u001b[0mname\u001b[0m\u001b[0;34m)\u001b[0m\u001b[0;34m\u001b[0m\u001b[0;34m\u001b[0m\u001b[0m\n\u001b[0m\u001b[1;32m   5142\u001b[0m \u001b[0;34m\u001b[0m\u001b[0m\n\u001b[1;32m   5143\u001b[0m     \u001b[0;32mdef\u001b[0m \u001b[0m__setattr__\u001b[0m\u001b[0;34m(\u001b[0m\u001b[0mself\u001b[0m\u001b[0;34m,\u001b[0m \u001b[0mname\u001b[0m\u001b[0;34m:\u001b[0m \u001b[0mstr\u001b[0m\u001b[0;34m,\u001b[0m \u001b[0mvalue\u001b[0m\u001b[0;34m)\u001b[0m \u001b[0;34m->\u001b[0m \u001b[0;32mNone\u001b[0m\u001b[0;34m:\u001b[0m\u001b[0;34m\u001b[0m\u001b[0;34m\u001b[0m\u001b[0m\n",
            "\u001b[0;31mAttributeError\u001b[0m: 'Series' object has no attribute 'time'"
          ]
        },
        {
          "output_type": "stream",
          "text": [
            "time: 15.5 ms (started: 2020-12-23 12:08:13 +00:00)\n"
          ],
          "name": "stdout"
        }
      ]
    },
    {
      "cell_type": "code",
      "metadata": {
        "id": "BxAixjpzfIdy"
      },
      "source": [
        ""
      ],
      "execution_count": null,
      "outputs": []
    },
    {
      "cell_type": "code",
      "metadata": {
        "colab": {
          "base_uri": "https://localhost:8080/",
          "height": 306
        },
        "id": "H6w50tFN4iUd",
        "outputId": "c9e7b75f-192f-4b19-d5e5-9e701c3e26ec"
      },
      "source": [
        "df.describe()"
      ],
      "execution_count": null,
      "outputs": [
        {
          "output_type": "execute_result",
          "data": {
            "text/html": [
              "<div>\n",
              "<style scoped>\n",
              "    .dataframe tbody tr th:only-of-type {\n",
              "        vertical-align: middle;\n",
              "    }\n",
              "\n",
              "    .dataframe tbody tr th {\n",
              "        vertical-align: top;\n",
              "    }\n",
              "\n",
              "    .dataframe thead th {\n",
              "        text-align: right;\n",
              "    }\n",
              "</style>\n",
              "<table border=\"1\" class=\"dataframe\">\n",
              "  <thead>\n",
              "    <tr style=\"text-align: right;\">\n",
              "      <th></th>\n",
              "      <th>ACT</th>\n",
              "      <th>Angle</th>\n",
              "      <th>Spin</th>\n",
              "    </tr>\n",
              "  </thead>\n",
              "  <tbody>\n",
              "    <tr>\n",
              "      <th>count</th>\n",
              "      <td>2.939771e+06</td>\n",
              "      <td>2.939771e+06</td>\n",
              "      <td>2.939771e+06</td>\n",
              "    </tr>\n",
              "    <tr>\n",
              "      <th>mean</th>\n",
              "      <td>7.676912e+00</td>\n",
              "      <td>3.579843e+00</td>\n",
              "      <td>3.164388e+00</td>\n",
              "    </tr>\n",
              "    <tr>\n",
              "      <th>std</th>\n",
              "      <td>4.142520e+01</td>\n",
              "      <td>3.737610e+00</td>\n",
              "      <td>3.773796e+00</td>\n",
              "    </tr>\n",
              "    <tr>\n",
              "      <th>min</th>\n",
              "      <td>0.000000e+00</td>\n",
              "      <td>0.000000e+00</td>\n",
              "      <td>0.000000e+00</td>\n",
              "    </tr>\n",
              "    <tr>\n",
              "      <th>25%</th>\n",
              "      <td>0.000000e+00</td>\n",
              "      <td>0.000000e+00</td>\n",
              "      <td>0.000000e+00</td>\n",
              "    </tr>\n",
              "    <tr>\n",
              "      <th>50%</th>\n",
              "      <td>3.310000e+00</td>\n",
              "      <td>3.000000e+00</td>\n",
              "      <td>1.964812e+00</td>\n",
              "    </tr>\n",
              "    <tr>\n",
              "      <th>75%</th>\n",
              "      <td>7.508571e+00</td>\n",
              "      <td>5.354477e+00</td>\n",
              "      <td>4.179399e+00</td>\n",
              "    </tr>\n",
              "    <tr>\n",
              "      <th>max</th>\n",
              "      <td>6.080000e+03</td>\n",
              "      <td>1.500000e+01</td>\n",
              "      <td>1.500000e+01</td>\n",
              "    </tr>\n",
              "  </tbody>\n",
              "</table>\n",
              "</div>"
            ],
            "text/plain": [
              "                ACT         Angle          Spin\n",
              "count  2.939771e+06  2.939771e+06  2.939771e+06\n",
              "mean   7.676912e+00  3.579843e+00  3.164388e+00\n",
              "std    4.142520e+01  3.737610e+00  3.773796e+00\n",
              "min    0.000000e+00  0.000000e+00  0.000000e+00\n",
              "25%    0.000000e+00  0.000000e+00  0.000000e+00\n",
              "50%    3.310000e+00  3.000000e+00  1.964812e+00\n",
              "75%    7.508571e+00  5.354477e+00  4.179399e+00\n",
              "max    6.080000e+03  1.500000e+01  1.500000e+01"
            ]
          },
          "metadata": {
            "tags": []
          },
          "execution_count": 104
        },
        {
          "output_type": "stream",
          "text": [
            "time: 214 ms (started: 2020-12-21 12:59:23 +00:00)\n"
          ],
          "name": "stdout"
        }
      ]
    },
    {
      "cell_type": "code",
      "metadata": {
        "colab": {
          "base_uri": "https://localhost:8080/"
        },
        "id": "NrC6AQ1vnQh8",
        "outputId": "94b42fcb-8df4-48e4-da0b-71319b3af01a"
      },
      "source": [
        "missing = [12, 17, 26, 19, 27, 31, 40, 46]"
      ],
      "execution_count": null,
      "outputs": [
        {
          "output_type": "stream",
          "text": [
            "time: 1.21 ms (started: 2020-12-21 12:59:23 +00:00)\n"
          ],
          "name": "stdout"
        }
      ]
    },
    {
      "cell_type": "code",
      "metadata": {
        "colab": {
          "base_uri": "https://localhost:8080/",
          "height": 425
        },
        "id": "8l4fpoZYqQa2",
        "outputId": "b05ef625-4ebd-46c1-b676-06bd1cd5d653"
      },
      "source": [
        "df.loc[df.PATIENT == 'HP02']"
      ],
      "execution_count": null,
      "outputs": [
        {
          "output_type": "execute_result",
          "data": {
            "text/html": [
              "<div>\n",
              "<style scoped>\n",
              "    .dataframe tbody tr th:only-of-type {\n",
              "        vertical-align: middle;\n",
              "    }\n",
              "\n",
              "    .dataframe tbody tr th {\n",
              "        vertical-align: top;\n",
              "    }\n",
              "\n",
              "    .dataframe thead th {\n",
              "        text-align: right;\n",
              "    }\n",
              "</style>\n",
              "<table border=\"1\" class=\"dataframe\">\n",
              "  <thead>\n",
              "    <tr style=\"text-align: right;\">\n",
              "      <th></th>\n",
              "      <th>ACT</th>\n",
              "      <th>Angle</th>\n",
              "      <th>Spin</th>\n",
              "      <th>PATIENT</th>\n",
              "      <th>DateTime</th>\n",
              "    </tr>\n",
              "  </thead>\n",
              "  <tbody>\n",
              "    <tr>\n",
              "      <th>161122</th>\n",
              "      <td>1.44</td>\n",
              "      <td>12.0</td>\n",
              "      <td>0.0</td>\n",
              "      <td>HP02</td>\n",
              "      <td>2019-09-26 01:40:58</td>\n",
              "    </tr>\n",
              "    <tr>\n",
              "      <th>161123</th>\n",
              "      <td>1.31</td>\n",
              "      <td>12.0</td>\n",
              "      <td>0.0</td>\n",
              "      <td>HP02</td>\n",
              "      <td>2019-09-26 01:41:08</td>\n",
              "    </tr>\n",
              "    <tr>\n",
              "      <th>161124</th>\n",
              "      <td>1.31</td>\n",
              "      <td>12.0</td>\n",
              "      <td>0.0</td>\n",
              "      <td>HP02</td>\n",
              "      <td>2019-09-26 01:41:18</td>\n",
              "    </tr>\n",
              "    <tr>\n",
              "      <th>161125</th>\n",
              "      <td>1.31</td>\n",
              "      <td>12.0</td>\n",
              "      <td>0.0</td>\n",
              "      <td>HP02</td>\n",
              "      <td>2019-09-26 01:41:28</td>\n",
              "    </tr>\n",
              "    <tr>\n",
              "      <th>161126</th>\n",
              "      <td>1.38</td>\n",
              "      <td>12.0</td>\n",
              "      <td>0.0</td>\n",
              "      <td>HP02</td>\n",
              "      <td>2019-09-26 01:41:38</td>\n",
              "    </tr>\n",
              "    <tr>\n",
              "      <th>...</th>\n",
              "      <td>...</td>\n",
              "      <td>...</td>\n",
              "      <td>...</td>\n",
              "      <td>...</td>\n",
              "      <td>...</td>\n",
              "    </tr>\n",
              "    <tr>\n",
              "      <th>236103</th>\n",
              "      <td>1.69</td>\n",
              "      <td>1.0</td>\n",
              "      <td>11.0</td>\n",
              "      <td>HP02</td>\n",
              "      <td>2019-10-04 16:36:46</td>\n",
              "    </tr>\n",
              "    <tr>\n",
              "      <th>236104</th>\n",
              "      <td>1.62</td>\n",
              "      <td>1.0</td>\n",
              "      <td>11.0</td>\n",
              "      <td>HP02</td>\n",
              "      <td>2019-10-04 16:36:56</td>\n",
              "    </tr>\n",
              "    <tr>\n",
              "      <th>236105</th>\n",
              "      <td>1.50</td>\n",
              "      <td>1.0</td>\n",
              "      <td>11.0</td>\n",
              "      <td>HP02</td>\n",
              "      <td>2019-10-04 16:37:06</td>\n",
              "    </tr>\n",
              "    <tr>\n",
              "      <th>236106</th>\n",
              "      <td>1.50</td>\n",
              "      <td>1.0</td>\n",
              "      <td>11.0</td>\n",
              "      <td>HP02</td>\n",
              "      <td>2019-10-04 16:37:16</td>\n",
              "    </tr>\n",
              "    <tr>\n",
              "      <th>236107</th>\n",
              "      <td>1.56</td>\n",
              "      <td>1.0</td>\n",
              "      <td>11.0</td>\n",
              "      <td>HP02</td>\n",
              "      <td>2019-10-04 16:37:26</td>\n",
              "    </tr>\n",
              "  </tbody>\n",
              "</table>\n",
              "<p>74986 rows × 5 columns</p>\n",
              "</div>"
            ],
            "text/plain": [
              "         ACT  Angle  Spin PATIENT             DateTime\n",
              "161122  1.44   12.0   0.0    HP02  2019-09-26 01:40:58\n",
              "161123  1.31   12.0   0.0    HP02  2019-09-26 01:41:08\n",
              "161124  1.31   12.0   0.0    HP02  2019-09-26 01:41:18\n",
              "161125  1.31   12.0   0.0    HP02  2019-09-26 01:41:28\n",
              "161126  1.38   12.0   0.0    HP02  2019-09-26 01:41:38\n",
              "...      ...    ...   ...     ...                  ...\n",
              "236103  1.69    1.0  11.0    HP02  2019-10-04 16:36:46\n",
              "236104  1.62    1.0  11.0    HP02  2019-10-04 16:36:56\n",
              "236105  1.50    1.0  11.0    HP02  2019-10-04 16:37:06\n",
              "236106  1.50    1.0  11.0    HP02  2019-10-04 16:37:16\n",
              "236107  1.56    1.0  11.0    HP02  2019-10-04 16:37:26\n",
              "\n",
              "[74986 rows x 5 columns]"
            ]
          },
          "metadata": {
            "tags": []
          },
          "execution_count": 106
        },
        {
          "output_type": "stream",
          "text": [
            "time: 181 ms (started: 2020-12-21 12:59:23 +00:00)\n"
          ],
          "name": "stdout"
        }
      ]
    },
    {
      "cell_type": "code",
      "metadata": {
        "colab": {
          "base_uri": "https://localhost:8080/"
        },
        "id": "RAPL7A-ck_A8",
        "outputId": "e699da3f-5d64-4625-e444-96dcc84c4a99"
      },
      "source": [
        "no_of_persons = []\n",
        "for i in range(1,46):\n",
        "  if(i not in missing):\n",
        "    if(i<10):\n",
        "      name = 'HP0'+ str(i)\n",
        "    else:\n",
        "      name = 'HP'+ str(i)\n",
        "    #data.loc[data.PATIENT == name, 'dead'] = 0\n",
        "\n",
        "    no_of_persons.append(df.loc[df.PATIENT == name].index[-1]+1)"
      ],
      "execution_count": null,
      "outputs": [
        {
          "output_type": "stream",
          "text": [
            "time: 5.79 s (started: 2020-12-21 12:59:24 +00:00)\n"
          ],
          "name": "stdout"
        }
      ]
    },
    {
      "cell_type": "code",
      "metadata": {
        "colab": {
          "base_uri": "https://localhost:8080/"
        },
        "id": "0uNGyHu2rZPI",
        "outputId": "c880faf7-432d-4bce-9686-2563987c01b4"
      },
      "source": [
        "#print(no_of_persons)"
      ],
      "execution_count": null,
      "outputs": [
        {
          "output_type": "stream",
          "text": [
            "time: 771 µs (started: 2020-12-21 12:59:30 +00:00)\n"
          ],
          "name": "stdout"
        }
      ]
    },
    {
      "cell_type": "code",
      "metadata": {
        "colab": {
          "base_uri": "https://localhost:8080/"
        },
        "id": "lqtTi6rr3Q-f",
        "outputId": "78ff63eb-2958-47d1-e497-58c6a4775712"
      },
      "source": [
        "df = df[['ACT', 'Angle', 'Spin', 'PATIENT', 'DateTime', 'dead']]"
      ],
      "execution_count": null,
      "outputs": [
        {
          "output_type": "stream",
          "text": [
            "time: 93.4 ms (started: 2020-12-21 12:59:41 +00:00)\n"
          ],
          "name": "stdout"
        }
      ]
    },
    {
      "cell_type": "code",
      "metadata": {
        "colab": {
          "base_uri": "https://localhost:8080/"
        },
        "id": "aOm3eZV604en",
        "outputId": "fb4707ca-f808-4511-b646-aa2f00fbd663"
      },
      "source": [
        "df.loc[df.PATIENT == 'HP01', 'Days'] = 19\n",
        "df.loc[df.PATIENT == 'HP02', 'Days'] = 9\n",
        "df.loc[df.PATIENT == 'HP03', 'Days'] = 4\n",
        "df.loc[df.PATIENT == 'HP04', 'Days'] = 2\n",
        "df.loc[df.PATIENT == 'HP05', 'Days'] = 11\n",
        "df.loc[df.PATIENT == 'HP06', 'Days'] = 2\n",
        "df.loc[df.PATIENT == 'HP07', 'Days'] = 4\n",
        "df.loc[df.PATIENT == 'HP08', 'Days'] = 3\n",
        "df.loc[df.PATIENT == 'HP09', 'Days'] = 2\n",
        "df.loc[df.PATIENT == 'HP10', 'Days'] = 5\n",
        "df.loc[df.PATIENT == 'HP11', 'Days'] = 11\n",
        "df.loc[df.PATIENT == 'HP13', 'Days'] = 4\n",
        "df.loc[df.PATIENT == 'HP14', 'Days'] = 14\n",
        "df.loc[df.PATIENT == 'HP15', 'Days'] = 3\n",
        "df.loc[df.PATIENT == 'HP16', 'Days'] = 23\n",
        "df.loc[df.PATIENT == 'HP18', 'Days'] = 13\n",
        "df.loc[df.PATIENT == 'HP20', 'Days'] = 1\n",
        "df.loc[df.PATIENT == 'HP21', 'Days'] = 28\n",
        "df.loc[df.PATIENT == 'HP22', 'Days'] = 24\n",
        "df.loc[df.PATIENT == 'HP23', 'Days'] = 14\n",
        "df.loc[df.PATIENT == 'HP24', 'Days'] = 5\n",
        "df.loc[df.PATIENT == 'HP25', 'Days'] = 5\n",
        "df.loc[df.PATIENT == 'HP28', 'Days'] = 4\n",
        "df.loc[df.PATIENT == 'HP29', 'Days'] = 8\n",
        "df.loc[df.PATIENT == 'HP30', 'Days'] = 17\n",
        "df.loc[df.PATIENT == 'HP32', 'Days'] = 7\n",
        "df.loc[df.PATIENT == 'HP33', 'Days'] = 9\n",
        "df.loc[df.PATIENT == 'HP34', 'Days'] = 8\n",
        "df.loc[df.PATIENT == 'HP35', 'Days'] = 2\n",
        "df.loc[df.PATIENT == 'HP36', 'Days'] = 3\n",
        "df.loc[df.PATIENT == 'HP37', 'Days'] = 5\n",
        "df.loc[df.PATIENT == 'HP38', 'Days'] = 6\n",
        "df.loc[df.PATIENT == 'HP39', 'Days'] = 15\n",
        "df.loc[df.PATIENT == 'HP41', 'Days'] = 17\n",
        "df.loc[df.PATIENT == 'HP42', 'Days'] = 2\n",
        "df.loc[df.PATIENT == 'HP43', 'Days'] = 10\n",
        "df.loc[df.PATIENT == 'HP44', 'Days'] = 9\n",
        "df.loc[df.PATIENT == 'HP45', 'Days'] = 2"
      ],
      "execution_count": null,
      "outputs": [
        {
          "output_type": "stream",
          "text": [
            "time: 6.62 s (started: 2020-12-21 12:59:41 +00:00)\n"
          ],
          "name": "stdout"
        }
      ]
    },
    {
      "cell_type": "markdown",
      "metadata": {
        "id": "7ia3_T5vcGDF"
      },
      "source": [
        "LSTM"
      ]
    },
    {
      "cell_type": "code",
      "metadata": {
        "colab": {
          "base_uri": "https://localhost:8080/"
        },
        "id": "SHNr7oEpuv3k",
        "outputId": "db9ad511-f5ef-40f1-d578-ac86d4d74f9e"
      },
      "source": [
        "# Scale features\n",
        "s1 = MinMaxScaler(feature_range=(-1,1))\n",
        "Xs = s1.fit_transform(df[['ACT','Angle', 'Spin']])"
      ],
      "execution_count": null,
      "outputs": [
        {
          "output_type": "stream",
          "text": [
            "time: 84.4 ms (started: 2020-12-21 12:59:49 +00:00)\n"
          ],
          "name": "stdout"
        }
      ]
    },
    {
      "cell_type": "code",
      "metadata": {
        "colab": {
          "base_uri": "https://localhost:8080/"
        },
        "id": "mPf67ml0uv3l",
        "outputId": "554e4f61-e984-4b04-d125-73159c084dc1"
      },
      "source": [
        "# Scale predicted value\n",
        "s2 = MinMaxScaler(feature_range=(-1,1))\n",
        "Ys = s2.fit_transform(df[['Days']])"
      ],
      "execution_count": null,
      "outputs": [
        {
          "output_type": "stream",
          "text": [
            "time: 26.2 ms (started: 2020-12-21 12:59:49 +00:00)\n"
          ],
          "name": "stdout"
        }
      ]
    },
    {
      "cell_type": "code",
      "metadata": {
        "colab": {
          "base_uri": "https://localhost:8080/"
        },
        "id": "i685oFfrpMNe",
        "outputId": "c3d4dc51-356b-4515-dfc8-fd0914c774f2"
      },
      "source": [
        "#s=len(df.loc[df.PATIENT == 'HP01'].index)"
      ],
      "execution_count": null,
      "outputs": [
        {
          "output_type": "stream",
          "text": [
            "time: 824 µs (started: 2020-12-21 12:59:49 +00:00)\n"
          ],
          "name": "stdout"
        }
      ]
    },
    {
      "cell_type": "code",
      "metadata": {
        "colab": {
          "base_uri": "https://localhost:8080/"
        },
        "id": "MEXR6D96phRZ",
        "outputId": "59360600-b15b-4bd2-d479-2dbacc588eb1"
      },
      "source": [
        "#s"
      ],
      "execution_count": null,
      "outputs": [
        {
          "output_type": "stream",
          "text": [
            "time: 757 µs (started: 2020-12-21 12:59:49 +00:00)\n"
          ],
          "name": "stdout"
        }
      ]
    },
    {
      "cell_type": "code",
      "metadata": {
        "colab": {
          "base_uri": "https://localhost:8080/"
        },
        "id": "d8-gADdhfBzf",
        "outputId": "f34db14f-e438-4435-8312-381bc79ae127"
      },
      "source": [
        "sub = []\n",
        "for i in range(1,46):\n",
        "  if(i not in missing):\n",
        "    if(i<10):\n",
        "      name = 'HP0'+ str(i)\n",
        "    else:\n",
        "      name = 'HP'+ str(i)\n",
        "    #data.loc[data.PATIENT == name, 'dead'] = 0\n",
        "\n",
        "    sub.append(int(len(df.loc[df.PATIENT == name].index)/4))"
      ],
      "execution_count": null,
      "outputs": [
        {
          "output_type": "stream",
          "text": [
            "time: 5.75 s (started: 2020-12-21 12:59:49 +00:00)\n"
          ],
          "name": "stdout"
        }
      ]
    },
    {
      "cell_type": "code",
      "metadata": {
        "colab": {
          "base_uri": "https://localhost:8080/"
        },
        "id": "assS5xFGpzG9",
        "outputId": "f1253e1a-310a-4394-89a6-1bc429981e6f"
      },
      "source": [
        "#sub"
      ],
      "execution_count": null,
      "outputs": [
        {
          "output_type": "stream",
          "text": [
            "time: 895 µs (started: 2020-12-21 12:59:54 +00:00)\n"
          ],
          "name": "stdout"
        }
      ]
    },
    {
      "cell_type": "code",
      "metadata": {
        "colab": {
          "base_uri": "https://localhost:8080/",
          "height": 425
        },
        "id": "BT8TLCFenU1P",
        "outputId": "12b91c0c-8f98-4cf3-9e95-d6d86a0c9324"
      },
      "source": [
        "df.loc[df.PATIENT == 'HP02']"
      ],
      "execution_count": null,
      "outputs": [
        {
          "output_type": "execute_result",
          "data": {
            "text/html": [
              "<div>\n",
              "<style scoped>\n",
              "    .dataframe tbody tr th:only-of-type {\n",
              "        vertical-align: middle;\n",
              "    }\n",
              "\n",
              "    .dataframe tbody tr th {\n",
              "        vertical-align: top;\n",
              "    }\n",
              "\n",
              "    .dataframe thead th {\n",
              "        text-align: right;\n",
              "    }\n",
              "</style>\n",
              "<table border=\"1\" class=\"dataframe\">\n",
              "  <thead>\n",
              "    <tr style=\"text-align: right;\">\n",
              "      <th></th>\n",
              "      <th>ACT</th>\n",
              "      <th>Angle</th>\n",
              "      <th>Spin</th>\n",
              "      <th>PATIENT</th>\n",
              "      <th>DateTime</th>\n",
              "      <th>dead</th>\n",
              "      <th>Days</th>\n",
              "    </tr>\n",
              "  </thead>\n",
              "  <tbody>\n",
              "    <tr>\n",
              "      <th>161122</th>\n",
              "      <td>1.44</td>\n",
              "      <td>12.0</td>\n",
              "      <td>0.0</td>\n",
              "      <td>HP02</td>\n",
              "      <td>2019-09-26 01:40:58</td>\n",
              "      <td>0.0</td>\n",
              "      <td>9.0</td>\n",
              "    </tr>\n",
              "    <tr>\n",
              "      <th>161123</th>\n",
              "      <td>1.31</td>\n",
              "      <td>12.0</td>\n",
              "      <td>0.0</td>\n",
              "      <td>HP02</td>\n",
              "      <td>2019-09-26 01:41:08</td>\n",
              "      <td>0.0</td>\n",
              "      <td>9.0</td>\n",
              "    </tr>\n",
              "    <tr>\n",
              "      <th>161124</th>\n",
              "      <td>1.31</td>\n",
              "      <td>12.0</td>\n",
              "      <td>0.0</td>\n",
              "      <td>HP02</td>\n",
              "      <td>2019-09-26 01:41:18</td>\n",
              "      <td>0.0</td>\n",
              "      <td>9.0</td>\n",
              "    </tr>\n",
              "    <tr>\n",
              "      <th>161125</th>\n",
              "      <td>1.31</td>\n",
              "      <td>12.0</td>\n",
              "      <td>0.0</td>\n",
              "      <td>HP02</td>\n",
              "      <td>2019-09-26 01:41:28</td>\n",
              "      <td>0.0</td>\n",
              "      <td>9.0</td>\n",
              "    </tr>\n",
              "    <tr>\n",
              "      <th>161126</th>\n",
              "      <td>1.38</td>\n",
              "      <td>12.0</td>\n",
              "      <td>0.0</td>\n",
              "      <td>HP02</td>\n",
              "      <td>2019-09-26 01:41:38</td>\n",
              "      <td>0.0</td>\n",
              "      <td>9.0</td>\n",
              "    </tr>\n",
              "    <tr>\n",
              "      <th>...</th>\n",
              "      <td>...</td>\n",
              "      <td>...</td>\n",
              "      <td>...</td>\n",
              "      <td>...</td>\n",
              "      <td>...</td>\n",
              "      <td>...</td>\n",
              "      <td>...</td>\n",
              "    </tr>\n",
              "    <tr>\n",
              "      <th>236103</th>\n",
              "      <td>1.69</td>\n",
              "      <td>1.0</td>\n",
              "      <td>11.0</td>\n",
              "      <td>HP02</td>\n",
              "      <td>2019-10-04 16:36:46</td>\n",
              "      <td>0.0</td>\n",
              "      <td>9.0</td>\n",
              "    </tr>\n",
              "    <tr>\n",
              "      <th>236104</th>\n",
              "      <td>1.62</td>\n",
              "      <td>1.0</td>\n",
              "      <td>11.0</td>\n",
              "      <td>HP02</td>\n",
              "      <td>2019-10-04 16:36:56</td>\n",
              "      <td>0.0</td>\n",
              "      <td>9.0</td>\n",
              "    </tr>\n",
              "    <tr>\n",
              "      <th>236105</th>\n",
              "      <td>1.50</td>\n",
              "      <td>1.0</td>\n",
              "      <td>11.0</td>\n",
              "      <td>HP02</td>\n",
              "      <td>2019-10-04 16:37:06</td>\n",
              "      <td>0.0</td>\n",
              "      <td>9.0</td>\n",
              "    </tr>\n",
              "    <tr>\n",
              "      <th>236106</th>\n",
              "      <td>1.50</td>\n",
              "      <td>1.0</td>\n",
              "      <td>11.0</td>\n",
              "      <td>HP02</td>\n",
              "      <td>2019-10-04 16:37:16</td>\n",
              "      <td>0.0</td>\n",
              "      <td>9.0</td>\n",
              "    </tr>\n",
              "    <tr>\n",
              "      <th>236107</th>\n",
              "      <td>1.56</td>\n",
              "      <td>1.0</td>\n",
              "      <td>11.0</td>\n",
              "      <td>HP02</td>\n",
              "      <td>2019-10-04 16:37:26</td>\n",
              "      <td>0.0</td>\n",
              "      <td>9.0</td>\n",
              "    </tr>\n",
              "  </tbody>\n",
              "</table>\n",
              "<p>74986 rows × 7 columns</p>\n",
              "</div>"
            ],
            "text/plain": [
              "         ACT  Angle  Spin PATIENT             DateTime  dead  Days\n",
              "161122  1.44   12.0   0.0    HP02  2019-09-26 01:40:58   0.0   9.0\n",
              "161123  1.31   12.0   0.0    HP02  2019-09-26 01:41:08   0.0   9.0\n",
              "161124  1.31   12.0   0.0    HP02  2019-09-26 01:41:18   0.0   9.0\n",
              "161125  1.31   12.0   0.0    HP02  2019-09-26 01:41:28   0.0   9.0\n",
              "161126  1.38   12.0   0.0    HP02  2019-09-26 01:41:38   0.0   9.0\n",
              "...      ...    ...   ...     ...                  ...   ...   ...\n",
              "236103  1.69    1.0  11.0    HP02  2019-10-04 16:36:46   0.0   9.0\n",
              "236104  1.62    1.0  11.0    HP02  2019-10-04 16:36:56   0.0   9.0\n",
              "236105  1.50    1.0  11.0    HP02  2019-10-04 16:37:06   0.0   9.0\n",
              "236106  1.50    1.0  11.0    HP02  2019-10-04 16:37:16   0.0   9.0\n",
              "236107  1.56    1.0  11.0    HP02  2019-10-04 16:37:26   0.0   9.0\n",
              "\n",
              "[74986 rows x 7 columns]"
            ]
          },
          "metadata": {
            "tags": []
          },
          "execution_count": 119
        },
        {
          "output_type": "stream",
          "text": [
            "time: 178 ms (started: 2020-12-21 12:59:54 +00:00)\n"
          ],
          "name": "stdout"
        }
      ]
    },
    {
      "cell_type": "code",
      "metadata": {
        "colab": {
          "base_uri": "https://localhost:8080/"
        },
        "id": "CcLyvlJQ17mo",
        "outputId": "7f424e50-41ef-412e-b0e0-d1471eb2e0ee"
      },
      "source": [
        "training_indexes = (no_of_persons).copy()\n",
        "for i in range(0, 38):\n",
        "  training_indexes[i] =  (training_indexes[i] - sub[i])"
      ],
      "execution_count": null,
      "outputs": [
        {
          "output_type": "stream",
          "text": [
            "time: 1.42 ms (started: 2020-12-21 12:59:55 +00:00)\n"
          ],
          "name": "stdout"
        }
      ]
    },
    {
      "cell_type": "code",
      "metadata": {
        "colab": {
          "base_uri": "https://localhost:8080/"
        },
        "id": "hsCJ3aBuoLap",
        "outputId": "d7324494-3b0c-43be-d61e-5863c12160da"
      },
      "source": [
        "ella_count=[]\n",
        "for i in range(1,46):\n",
        "  if(i not in missing):\n",
        "    if(i<10):\n",
        "      name = 'HP0'+ str(i)\n",
        "    else:\n",
        "      name = 'HP'+ str(i)\n",
        "    #data.loc[data.PATIENT == name, 'dead'] = 0\n",
        "\n",
        "    ella_count.append(df.loc[df.PATIENT == name].index[-1]-df.loc[df.PATIENT == name].index[0]+1)"
      ],
      "execution_count": null,
      "outputs": [
        {
          "output_type": "stream",
          "text": [
            "time: 11.6 s (started: 2020-12-21 12:59:55 +00:00)\n"
          ],
          "name": "stdout"
        }
      ]
    },
    {
      "cell_type": "code",
      "metadata": {
        "colab": {
          "base_uri": "https://localhost:8080/"
        },
        "id": "HyvQluQ9hk2p",
        "outputId": "9b16aef6-a70e-4bda-b72b-7143dd1c34d5"
      },
      "source": [
        "for i in range(0,38):\n",
        "  print('Ending index : ' ,no_of_persons[i],' Training Ending index : ' ,training_indexes[i],' Traning count : ' ,ella_count[i]-sub[i],' Testing count : ' ,sub[i],' otal count : ' ,ella_count[i])"
      ],
      "execution_count": null,
      "outputs": [
        {
          "output_type": "stream",
          "text": [
            "Ending index :  161122  Training Ending index :  120842  Traning count :  120842  Testing count :  40280  otal count :  161122\n",
            "Ending index :  236108  Training Ending index :  217362  Traning count :  56240  Testing count :  18746  otal count :  74986\n",
            "Ending index :  269491  Training Ending index :  261146  Traning count :  25038  Testing count :  8345  otal count :  33383\n",
            "Ending index :  284021  Training Ending index :  280389  Traning count :  10898  Testing count :  3632  otal count :  14530\n",
            "Ending index :  372829  Training Ending index :  350627  Traning count :  66606  Testing count :  22202  otal count :  88808\n",
            "Ending index :  382772  Training Ending index :  380287  Traning count :  7458  Testing count :  2485  otal count :  9943\n",
            "Ending index :  412370  Training Ending index :  404971  Traning count :  22199  Testing count :  7399  otal count :  29598\n",
            "Ending index :  433571  Training Ending index :  428271  Traning count :  15901  Testing count :  5300  otal count :  21201\n",
            "Ending index :  447674  Training Ending index :  444149  Traning count :  10578  Testing count :  3525  otal count :  14103\n",
            "Ending index :  489068  Training Ending index :  478720  Traning count :  31046  Testing count :  10348  otal count :  41394\n",
            "Ending index :  580480  Training Ending index :  557627  Traning count :  68559  Testing count :  22853  otal count :  91412\n",
            "Ending index :  603346  Training Ending index :  597630  Traning count :  17150  Testing count :  5716  otal count :  22866\n",
            "Ending index :  722383  Training Ending index :  692624  Traning count :  89278  Testing count :  29759  otal count :  119037\n",
            "Ending index :  744901  Training Ending index :  739272  Traning count :  16889  Testing count :  5629  otal count :  22518\n",
            "Ending index :  945948  Training Ending index :  895687  Traning count :  150786  Testing count :  50261  otal count :  201047\n",
            "Ending index :  1112608  Training Ending index :  1070943  Traning count :  124995  Testing count :  41665  otal count :  166660\n",
            "Ending index :  1115796  Training Ending index :  1114999  Traning count :  2391  Testing count :  797  otal count :  3188\n",
            "Ending index :  1358142  Training Ending index :  1297556  Traning count :  181760  Testing count :  60586  otal count :  242346\n",
            "Ending index :  1571398  Training Ending index :  1518084  Traning count :  159942  Testing count :  53314  otal count :  213256\n",
            "Ending index :  1692960  Training Ending index :  1662570  Traning count :  91172  Testing count :  30390  otal count :  121562\n",
            "Ending index :  1730078  Training Ending index :  1720799  Traning count :  27839  Testing count :  9279  otal count :  37118\n",
            "Ending index :  1764917  Training Ending index :  1756208  Traning count :  26130  Testing count :  8709  otal count :  34839\n",
            "Ending index :  1788947  Training Ending index :  1782940  Traning count :  18023  Testing count :  6007  otal count :  24030\n",
            "Ending index :  1853942  Training Ending index :  1837694  Traning count :  48747  Testing count :  16248  otal count :  64995\n",
            "Ending index :  1991555  Training Ending index :  1957152  Traning count :  103210  Testing count :  34403  otal count :  137613\n",
            "Ending index :  2044080  Training Ending index :  2030949  Traning count :  39394  Testing count :  13131  otal count :  52525\n",
            "Ending index :  2117411  Training Ending index :  2099079  Traning count :  54999  Testing count :  18332  otal count :  73331\n",
            "Ending index :  2181292  Training Ending index :  2165322  Traning count :  47911  Testing count :  15970  otal count :  63881\n",
            "Ending index :  2192718  Training Ending index :  2189862  Traning count :  8570  Testing count :  2856  otal count :  11426\n",
            "Ending index :  2210713  Training Ending index :  2206215  Traning count :  13497  Testing count :  4498  otal count :  17995\n",
            "Ending index :  2425116  Training Ending index :  2371516  Traning count :  160803  Testing count :  53600  otal count :  214403\n",
            "Ending index :  2468972  Training Ending index :  2458008  Traning count :  32892  Testing count :  10964  otal count :  43856\n",
            "Ending index :  2596210  Training Ending index :  2564401  Traning count :  95429  Testing count :  31809  otal count :  127238\n",
            "Ending index :  2758229  Training Ending index :  2717725  Traning count :  121515  Testing count :  40504  otal count :  162019\n",
            "Ending index :  2770326  Training Ending index :  2767302  Traning count :  9073  Testing count :  3024  otal count :  12097\n",
            "Ending index :  2848958  Training Ending index :  2829300  Traning count :  58974  Testing count :  19658  otal count :  78632\n",
            "Ending index :  2926354  Training Ending index :  2907005  Traning count :  58047  Testing count :  19349  otal count :  77396\n",
            "Ending index :  2939771  Training Ending index :  2936417  Traning count :  10063  Testing count :  3354  otal count :  13417\n",
            "time: 14.2 ms (started: 2020-12-21 13:00:06 +00:00)\n"
          ],
          "name": "stdout"
        }
      ]
    },
    {
      "cell_type": "code",
      "metadata": {
        "colab": {
          "base_uri": "https://localhost:8080/"
        },
        "id": "dTN8RnboCkte",
        "outputId": "d212efba-3221-42a6-990a-1ce2dd72879e"
      },
      "source": [
        "#Bidirectional\n",
        "model = keras.Sequential()\n",
        "model.add(\n",
        "  keras.layers.Bidirectional(\n",
        "    keras.layers.LSTM(\n",
        "      units=128, \n",
        "      input_shape=(3000, 3)\n",
        "    )\n",
        "  )\n",
        ")\n",
        "model.add(keras.layers.Dropout(rate=0.2))\n",
        "model.add(keras.layers.Dense(units=1))\n",
        "model.compile(loss='mean_squared_error', optimizer='adam')"
      ],
      "execution_count": null,
      "outputs": [
        {
          "output_type": "stream",
          "text": [
            "time: 34.1 ms (started: 2020-12-21 13:00:11 +00:00)\n"
          ],
          "name": "stdout"
        }
      ]
    },
    {
      "cell_type": "code",
      "metadata": {
        "id": "RhIfVFfEZDXv",
        "colab": {
          "base_uri": "https://localhost:8080/"
        },
        "outputId": "78c66373-e12e-42eb-8161-2cb8200fc8aa"
      },
      "source": [
        "def generate_X():\n",
        "    while True:\n",
        "      for j in range(3000,2848958):\n",
        "        X=[]\n",
        "        X.append(Xs[j-3000:j,:])\n",
        "        X = np.array(X)\n",
        "        yield X\n",
        "\n",
        "\n",
        "def generate_y():\n",
        "    while True:\n",
        "        for j in range(3000, 2848958):\n",
        "          Y=[]\n",
        "          Y.append(Ys[j])\n",
        "          Y = np.array(Y)\n",
        "          yield Y"
      ],
      "execution_count": null,
      "outputs": [
        {
          "output_type": "stream",
          "text": [
            "time: 4.54 ms (started: 2020-12-21 13:00:12 +00:00)\n"
          ],
          "name": "stdout"
        }
      ]
    },
    {
      "cell_type": "code",
      "metadata": {
        "id": "rOV9ykojZDah",
        "colab": {
          "base_uri": "https://localhost:8080/"
        },
        "outputId": "b6e72afd-8a75-4d3d-e22f-433db53d22cb"
      },
      "source": [
        "def batch_generator(batch_size, gen_x,gen_y): \n",
        "\n",
        "    batch_features = np.zeros((batch_size,3000, 3))\n",
        "    batch_labels = np.zeros((batch_size,3000))\n",
        "\n",
        "    while True:\n",
        "        for i in range(batch_size):\n",
        "            batch_features[i] = next(gen_x)\n",
        "            batch_labels[i] = next(gen_y)\n",
        "        yield batch_features, batch_labels"
      ],
      "execution_count": null,
      "outputs": [
        {
          "output_type": "stream",
          "text": [
            "time: 3.1 ms (started: 2020-12-21 13:00:14 +00:00)\n"
          ],
          "name": "stdout"
        }
      ]
    },
    {
      "cell_type": "code",
      "metadata": {
        "colab": {
          "base_uri": "https://localhost:8080/"
        },
        "id": "MBgJ2Ghg-vFD",
        "outputId": "672f9f60-f921-4581-a893-013ca725a319"
      },
      "source": [
        "model.fit_generator(batch_generator(300, generate_X(), generate_y()),\n",
        "                    steps_per_epoch=(2848958/300), epochs=2, verbose=1)"
      ],
      "execution_count": null,
      "outputs": [
        {
          "output_type": "stream",
          "text": [
            "/usr/local/lib/python3.6/dist-packages/tensorflow/python/keras/engine/training.py:1844: UserWarning: `Model.fit_generator` is deprecated and will be removed in a future version. Please use `Model.fit`, which supports generators.\n",
            "  warnings.warn('`Model.fit_generator` is deprecated and '\n"
          ],
          "name": "stderr"
        },
        {
          "output_type": "stream",
          "text": [
            "Epoch 1/2\n",
            "9496/9496 [==============================] - 4739s 499ms/step - loss: 0.0107\n",
            "Epoch 2/2\n",
            "9496/9496 [==============================] - 4733s 498ms/step - loss: 0.0191\n"
          ],
          "name": "stdout"
        },
        {
          "output_type": "execute_result",
          "data": {
            "text/plain": [
              "<tensorflow.python.keras.callbacks.History at 0x7fedd58e2c50>"
            ]
          },
          "metadata": {
            "tags": []
          },
          "execution_count": 128
        },
        {
          "output_type": "stream",
          "text": [
            "time: 2h 37min 52s (started: 2020-12-21 13:00:15 +00:00)\n"
          ],
          "name": "stdout"
        }
      ]
    },
    {
      "cell_type": "code",
      "metadata": {
        "id": "xC8d6gWYJmyu",
        "colab": {
          "base_uri": "https://localhost:8080/"
        },
        "outputId": "860036fc-a657-4892-f0bc-658718812d96"
      },
      "source": [
        "model.save('/content/drive/MyDrive/Taiwan Hospice Project/BiDirectionalwithoutdays')"
      ],
      "execution_count": null,
      "outputs": [
        {
          "output_type": "stream",
          "text": [
            "WARNING:absl:Found untraced functions such as lstm_cell_43_layer_call_fn, lstm_cell_43_layer_call_and_return_conditional_losses, lstm_cell_44_layer_call_fn, lstm_cell_44_layer_call_and_return_conditional_losses, lstm_cell_43_layer_call_fn while saving (showing 5 of 10). These functions will not be directly callable after loading.\n",
            "WARNING:absl:Found untraced functions such as lstm_cell_43_layer_call_fn, lstm_cell_43_layer_call_and_return_conditional_losses, lstm_cell_44_layer_call_fn, lstm_cell_44_layer_call_and_return_conditional_losses, lstm_cell_43_layer_call_fn while saving (showing 5 of 10). These functions will not be directly callable after loading.\n"
          ],
          "name": "stderr"
        },
        {
          "output_type": "stream",
          "text": [
            "INFO:tensorflow:Assets written to: /content/drive/MyDrive/Taiwan Hospice Project/BiDirectionalwithoutdays/assets\n"
          ],
          "name": "stdout"
        },
        {
          "output_type": "stream",
          "text": [
            "INFO:tensorflow:Assets written to: /content/drive/MyDrive/Taiwan Hospice Project/BiDirectionalwithoutdays/assets\n"
          ],
          "name": "stderr"
        },
        {
          "output_type": "stream",
          "text": [
            "time: 14.3 s (started: 2020-12-21 15:38:09 +00:00)\n"
          ],
          "name": "stdout"
        }
      ]
    },
    {
      "cell_type": "code",
      "metadata": {
        "id": "qRgdDe6fEfdv",
        "colab": {
          "base_uri": "https://localhost:8080/"
        },
        "outputId": "1caa305b-7052-4c28-b8e6-aeb4205235b2"
      },
      "source": [
        "model.save('/content/drive/MyDrive/Taiwan Hospice Project/BiDirectionalwithoutdays.h5')"
      ],
      "execution_count": null,
      "outputs": [
        {
          "output_type": "stream",
          "text": [
            "time: 43.5 ms (started: 2020-12-21 15:38:25 +00:00)\n"
          ],
          "name": "stdout"
        }
      ]
    },
    {
      "cell_type": "code",
      "metadata": {
        "id": "evWTS7h0BjE1",
        "colab": {
          "base_uri": "https://localhost:8080/",
          "height": 832
        },
        "outputId": "29d53e95-5ce9-4071-dba1-7473b47f8f7c"
      },
      "source": [
        "count= 36\n",
        "window = 3000\n",
        "\n",
        "for i in range(44,46):\n",
        "  X = []\n",
        "  Y = []\n",
        "  if(i not in missing):\n",
        "    print('Patient : ',i)\n",
        "    window = 3000\n",
        "    window = min(window,no_of_persons[count]-training_indexes[count]-1)\n",
        "    for j in range(training_indexes[count]+window, no_of_persons[count]):\n",
        "      \n",
        "      X.append(Xs[j-window:j,:])\n",
        "      Y.append(Ys[j])\n",
        "    X, Y = np.array(X), np.array(Y)\n",
        "    Yp = model.predict(X)\n",
        "    Yu = s2.inverse_transform(Yp)\n",
        "    Ym = s2.inverse_transform(Y)\n",
        "    plt.figure(figsize=(10,6))\n",
        "    plt.plot(Yu , df[training_indexes[count]+window:no_of_persons[count]].index,'r:',label='LSTM')\n",
        "    plt.plot(Ym , df[training_indexes[count]+window:no_of_persons[count]].index,'k',label='Measured')\n",
        "    plt.xlabel('Days')\n",
        "    plt.ylabel('Index')\n",
        "    plt.legend()\n",
        "    plt.show()\n",
        "    count=count+1"
      ],
      "execution_count": null,
      "outputs": [
        {
          "output_type": "stream",
          "text": [
            "Patient :  44\n"
          ],
          "name": "stdout"
        },
        {
          "output_type": "display_data",
          "data": {
            "image/png": "[encoded data removed]",
            "text/plain": [
              "<Figure size 720x432 with 1 Axes>"
            ]
          },
          "metadata": {
            "tags": [],
            "needs_background": "light"
          }
        },
        {
          "output_type": "stream",
          "text": [
            "Patient :  45\n"
          ],
          "name": "stdout"
        },
        {
          "output_type": "display_data",
          "data": {
            "image/png": "[encoded data removed]",
            "text/plain": [
              "<Figure size 720x432 with 1 Axes>"
            ]
          },
          "metadata": {
            "tags": [],
            "needs_background": "light"
          }
        },
        {
          "output_type": "stream",
          "text": [
            "time: 51.2 s (started: 2020-12-21 15:38:25 +00:00)\n"
          ],
          "name": "stdout"
        }
      ]
    },
    {
      "cell_type": "code",
      "metadata": {
        "id": "G_vBCUfMnY7n"
      },
      "source": [
        ""
      ],
      "execution_count": null,
      "outputs": []
    }
  ]
}